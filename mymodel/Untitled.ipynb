{
 "cells": [
  {
   "cell_type": "code",
   "execution_count": 1,
   "id": "94cf46f8-4b80-4c8f-931b-ff7053e27998",
   "metadata": {},
   "outputs": [],
   "source": [
    "import math\n",
    "import numpy as np\n",
    "import pandas as pd\n",
    "import torch\n",
    "import torch.nn as nn\n",
    "import torch.nn.functional as F\n",
    "from meta import OUT\n",
    "from torch_geometric_temporal.nn.attention import STConv,GMAN,ASTGCN\n",
    "from torch_geometric_temporal.nn.recurrent import DCRNN\n",
    "import torch\n",
    "import torch.optim as optim\n",
    "from torch.optim.lr_scheduler import StepLR\n",
    "from utils import od_dataloader,ODLoss,set_seed,masked_mse\n",
    "from config import get_configs\n",
    "import numpy as np\n",
    "import pandas as pd\n",
    "from scipy.sparse import coo_matrix\n",
    "from lib import train, test\n",
    "\n",
    "args = get_configs()\n",
    "args.model_name = 'astgcn'"
   ]
  },
  {
   "cell_type": "code",
   "execution_count": 2,
   "id": "be02d461-7c2c-463e-849e-9da948159658",
   "metadata": {},
   "outputs": [
    {
     "name": "stdout",
     "output_type": "stream",
     "text": [
      "train number:6965\n",
      "validation number:871\n",
      "test number:871\n"
     ]
    }
   ],
   "source": [
    "seeds = [42, 3407, 114514]\n",
    "\n",
    "se = torch.Tensor(np.load(args.se_path)).to(args.device)\n",
    "pe = torch.Tensor(pd.read_csv(args.pe_path,index_col=0).values).to(args.device)\n",
    "adj = torch.cuda.LongTensor(pd.read_csv('../data/processed data/adj.csv',index_col=0).values)\n",
    "ed = coo_matrix(adj.cpu())\n",
    "edge_index = torch.cuda.LongTensor(np.array([ed.row, ed.col]))\n",
    "train_dataloader, val_dataloader, test_dataloader = od_dataloader(args)"
   ]
  },
  {
   "cell_type": "code",
   "execution_count": 3,
   "id": "750f20c1-162d-47f7-a4d3-a998f44a126e",
   "metadata": {},
   "outputs": [],
   "source": [
    "class STGCN(nn.Module):\n",
    "    def __init__(self, n_feature, num_nodes, in_seq_len, d_model):\n",
    "        super(STGCN, self).__init__()\n",
    "        self.n_feature = n_feature\n",
    "        self.num_nodes = num_nodes\n",
    "        self.in_seq_len = in_seq_len\n",
    "        self.d_model = d_model\n",
    "        self.stgcn = STConv(self.num_nodes, self.n_feature, self.d_model,self.d_model, 3, 1)\n",
    "        self.fc = nn.Linear(20,self.in_seq_len)\n",
    "        self.out = OUT(self.num_nodes, self.in_seq_len, self.in_seq_len, self.d_model)\n",
    "\n",
    "    def forward(self, x, te, se, pe, adj, edge_index):      \n",
    "        B,T,N,D = x.size()\n",
    "        h = self.stgcn(x,edge_index)\n",
    "        h = h.permute(0,2,3,1)\n",
    "        h = self.fc(h)\n",
    "        h = h.permute(0,3,1,2)\n",
    "        h = self.out(h)\n",
    "        return h"
   ]
  },
  {
   "cell_type": "code",
   "execution_count": 4,
   "id": "7d92192e-2dfe-4ea4-8415-881d451f9b5c",
   "metadata": {},
   "outputs": [],
   "source": [
    "class ODASTGCN(nn.Module):\n",
    "    def __init__(self, n_feature, num_nodes, in_seq_len, d_model):\n",
    "        super(ODASTGCN, self).__init__()\n",
    "        self.n_feature = n_feature\n",
    "        self.num_nodes = num_nodes\n",
    "        self.in_seq_len = in_seq_len\n",
    "        self.d_model = d_model\n",
    "        self.astgcn = ASTGCN(nb_block=2, in_channels=132, K=3, nb_chev_filter=64, nb_time_filter=64, time_strides=2, num_for_predict=24, len_input=24, num_of_vertices=66)\n",
    "        self.fc = nn.Linear(1,self.d_model)\n",
    "        self.out = OUT(self.num_nodes, self.in_seq_len, self.in_seq_len, self.d_model)\n",
    "\n",
    "    def forward(self, x, te, se, pe, adj, edge_index):\n",
    "        x = x.permute(0,2,3,1) # (B,N,D,T)\n",
    "        h = self.astgcn(x,edge_index)\n",
    "        h = h.unsqueeze(-1)\n",
    "        h = h.permute(0,2,1,3) # (B,T,N,1)\n",
    "        h = self.fc(h)\n",
    "        h = self.out(h)\n",
    "        return h\n",
    "    "
   ]
  },
  {
   "cell_type": "code",
   "execution_count": null,
   "id": "04315a42-d537-49ff-9779-aa8d914c278e",
   "metadata": {},
   "outputs": [
    {
     "name": "stdout",
     "output_type": "stream",
     "text": [
      "**********\n",
      "start seed 42\n",
      "**********\n",
      "Epoch: 00, Loss: 3.9421\n",
      "test loss: 4.0531\n",
      "Epoch: 01, Loss: 3.6802\n",
      "Epoch: 02, Loss: 3.6002\n",
      "Epoch: 03, Loss: 3.5441\n",
      "test loss: 3.9483\n"
     ]
    }
   ],
   "source": [
    "for seed in seeds:\n",
    "    args.seed = seed\n",
    "    set_seed(args.seed)\n",
    "    print(\"*\" * 10)\n",
    "    print(f\"start seed {args.seed}\")\n",
    "    print(\"*\" * 10)\n",
    "    model = ODASTGCN(args.n_feature,args.num_nodes,args.in_seq_len,args.d_model)\n",
    "    optimizer = optim.Adam(model.parameters(), lr=args.lr, weight_decay=0.0005)\n",
    "    criterion = ODLoss\n",
    "    scheduler = StepLR(optimizer, step_size=args.step_size, gamma=args.gamma)\n",
    "    train(model,train_dataloader,se,pe,edge_index,val_dataloader,optimizer,criterion,scheduler,args)\n",
    "    torch.cuda.empty_cache()\n",
    "    # mse,rmse,mae,mape,_,_ = test(model,test_dataloader,se,pe,criterion,args,True)\n",
    "    # print(f\"test mse is {mse}\")\n",
    "    # print(f\"test rmse is {rmse}\")\n",
    "    # print(f\"test mae is {mae}\")\n",
    "    # print(f\"test mape is {mape}\")"
   ]
  },
  {
   "cell_type": "code",
   "execution_count": null,
   "id": "d8e5202e-11b0-4fce-8c32-377d83934a94",
   "metadata": {},
   "outputs": [],
   "source": []
  }
 ],
 "metadata": {
  "kernelspec": {
   "display_name": "dissertation",
   "language": "python",
   "name": "dissertation"
  },
  "language_info": {
   "codemirror_mode": {
    "name": "ipython",
    "version": 3
   },
   "file_extension": ".py",
   "mimetype": "text/x-python",
   "name": "python",
   "nbconvert_exporter": "python",
   "pygments_lexer": "ipython3",
   "version": "3.11.5"
  }
 },
 "nbformat": 4,
 "nbformat_minor": 5
}
