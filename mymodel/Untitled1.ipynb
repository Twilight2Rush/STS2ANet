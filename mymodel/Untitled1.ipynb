{
 "cells": [
  {
   "cell_type": "code",
   "execution_count": 1,
   "id": "aa223e47-38f0-4edb-87bc-f8b2a130c972",
   "metadata": {},
   "outputs": [],
   "source": [
    "import torch\n",
    "import torch.optim as optim\n",
    "from torch.optim.lr_scheduler import StepLR\n",
    "import torch.nn as nn\n",
    "import numpy as np\n",
    "import pandas as pd\n",
    "from torch.utils.data import DataLoader\n",
    "from sklearn.model_selection import train_test_split"
   ]
  },
  {
   "cell_type": "code",
   "execution_count": 2,
   "id": "0172c2b4-e087-49f7-835b-17f88b8edc1b",
   "metadata": {},
   "outputs": [],
   "source": [
    "from config import get_configs\n",
    "from utils import load_data,set_seed, metric,masked_mse\n",
    "from dataset import ODDataset\n",
    "# from models import MYMODEL, MYMODEL2\n",
    "from lib import train,test\n",
    "from baseline import HA"
   ]
  },
  {
   "cell_type": "code",
   "execution_count": 3,
   "id": "1eda9b81-8c35-4a06-af5e-cbabf80f116f",
   "metadata": {},
   "outputs": [],
   "source": [
    "args = get_configs()"
   ]
  },
  {
   "cell_type": "code",
   "execution_count": 4,
   "id": "dde3150f-1046-4f02-9879-ebbdf62ef1e8",
   "metadata": {},
   "outputs": [],
   "source": [
    "x,  te, t_label, adj, y, c, z_adj = load_data(args)\n",
    "x_train, x_val, adj_train, adj_val, te_train, te_val, y_train, y_val, c_train, c_val, t_label_train, t_label_val = train_test_split(x, adj, te, y, c, t_label, test_size=args.test_size, shuffle=False)\n",
    "x_val, x_test, adj_val, adj_test, te_val, te_test, y_val, y_test, c_val, c_test, t_label_val, t_label_test = train_test_split(x_val, adj_val,  te_val, y_val, c_val, t_label_val, test_size=0.5, shuffle=False)"
   ]
  },
  {
   "cell_type": "code",
   "execution_count": 8,
   "id": "2089c285-0dc0-48f9-bde0-8d962b38f1b6",
   "metadata": {},
   "outputs": [
    {
     "data": {
      "text/plain": [
       "tensor([ 3., 11.])"
      ]
     },
     "execution_count": 8,
     "metadata": {},
     "output_type": "execute_result"
    }
   ],
   "source": [
    "te[1][5]"
   ]
  },
  {
   "cell_type": "code",
   "execution_count": 5,
   "id": "a2ae4f5c-2a2a-4f3d-9f68-e6218a4fc2b0",
   "metadata": {},
   "outputs": [
    {
     "data": {
      "text/plain": [
       "torch.Size([66, 66])"
      ]
     },
     "execution_count": 5,
     "metadata": {},
     "output_type": "execute_result"
    }
   ],
   "source": [
    "adj[0][0].shape"
   ]
  },
  {
   "cell_type": "code",
   "execution_count": 7,
   "id": "0a527cc1-f464-4e36-9f0d-8857a1cf4396",
   "metadata": {},
   "outputs": [],
   "source": [
    "true_adj = pd.read_csv('../data/processed data/adj.csv',index_col=0).values"
   ]
  },
  {
   "cell_type": "code",
   "execution_count": 8,
   "id": "9a5f4d80-e269-476e-a4cf-1c727a9f97d9",
   "metadata": {},
   "outputs": [
    {
     "data": {
      "text/plain": [
       "(66, 66)"
      ]
     },
     "execution_count": 8,
     "metadata": {},
     "output_type": "execute_result"
    }
   ],
   "source": [
    "true_adj.shape"
   ]
  },
  {
   "cell_type": "code",
   "execution_count": 9,
   "id": "6ae72d72-b35b-4627-8205-16930aed83ff",
   "metadata": {},
   "outputs": [
    {
     "data": {
      "image/png": "[encoded data removed]",
      "text/plain": [
       "<Figure size 1000x500 with 2 Axes>"
      ]
     },
     "metadata": {},
     "output_type": "display_data"
    }
   ],
   "source": [
    "import torch\n",
    "import matplotlib.pyplot as plt\n",
    "\n",
    "# 创建两个示例的二维张量\n",
    "data1 = torch.rand((10, 10))\n",
    "data2 = torch.rand((10, 10))\n",
    "\n",
    "# 创建一个包含两个子图的图形\n",
    "fig, axs = plt.subplots(1, 2, figsize=(10, 5))\n",
    "\n",
    "# 在第一个子图中绘制热力图\n",
    "axs[0].imshow(adj[0][0].cpu(), cmap='hot', interpolation='nearest')\n",
    "axs[0].set_title('Heatmap 1')\n",
    "axs[0].axis('off')  # 关闭坐标轴\n",
    "\n",
    "# 在第二个子图中绘制热力图\n",
    "axs[1].imshow(true_adj, cmap='hot', interpolation='nearest')\n",
    "axs[1].set_title('Heatmap 2')\n",
    "axs[1].axis('off')  # 关闭坐标轴\n",
    "\n",
    "plt.show()"
   ]
  },
  {
   "cell_type": "code",
   "execution_count": 11,
   "id": "f1273864-b56f-4823-a544-558831a49203",
   "metadata": {},
   "outputs": [
    {
     "data": {
      "image/png": "[encoded data removed]",
      "text/plain": [
       "<Figure size 1000x500 with 2 Axes>"
      ]
     },
     "metadata": {},
     "output_type": "display_data"
    }
   ],
   "source": [
    "import torch\n",
    "import matplotlib.pyplot as plt\n",
    "\n",
    "# 创建两个示例的二维张量\n",
    "data1 = torch.rand((10, 10))\n",
    "data2 = torch.rand((10, 10))\n",
    "\n",
    "# 创建一个包含两个子图的图形\n",
    "fig, axs = plt.subplots(1, 2, figsize=(10, 5))\n",
    "\n",
    "# 在第一个子图中绘制热力图\n",
    "axs[0].imshow(adj[1][1].cpu(), cmap='hot', interpolation='nearest')\n",
    "axs[0].set_title('Heatmap 1')\n",
    "axs[0].axis('off')  # 关闭坐标轴\n",
    "\n",
    "# 在第二个子图中绘制热力图\n",
    "axs[1].imshow(true_adj, cmap='hot', interpolation='nearest')\n",
    "axs[1].set_title('Heatmap 2')\n",
    "axs[1].axis('off')  # 关闭坐标轴\n",
    "\n",
    "plt.show()"
   ]
  },
  {
   "cell_type": "code",
   "execution_count": 5,
   "id": "eff47dac-3a96-4b50-b9e3-3ea9cc025b49",
   "metadata": {},
   "outputs": [],
   "source": [
    "def t_emb(t):\n",
    "    d_w_list = range(1, 8)  # day of week\n",
    "    d_w_oh_list = np.eye(len(d_w_list))  # one hot\n",
    "    d_w_emb = d_w_oh_list[d_w_list.index(t[0].weekday() + 1)]  # day of week embedding\n",
    "    h_d_list = range(0, 24)  # hour of day\n",
    "    h_d_oh_list = np.eye(len(h_d_list))  # one hot\n",
    "    h_d_emb = h_d_oh_list[h_d_list.index(t[1])]\n",
    "    emb = np.hstack((d_w_emb, h_d_emb))\n",
    "    return emb"
   ]
  },
  {
   "cell_type": "code",
   "execution_count": 6,
   "id": "c7edd19b-d380-48e7-9636-0ef5cbe653f7",
   "metadata": {},
   "outputs": [],
   "source": [
    "x = torch.sum(x,dim=0)\n",
    "x = torch.sum(x,dim=0)"
   ]
  },
  {
   "cell_type": "code",
   "execution_count": 7,
   "id": "aee1feef-484c-4786-9831-6ba90e1be1dd",
   "metadata": {},
   "outputs": [
    {
     "data": {
      "text/plain": [
       "torch.Size([66, 66])"
      ]
     },
     "execution_count": 7,
     "metadata": {},
     "output_type": "execute_result"
    }
   ],
   "source": [
    "x.shape"
   ]
  },
  {
   "cell_type": "code",
   "execution_count": 8,
   "id": "e7e078f1-da89-4315-81db-3dcdb6a7c7ce",
   "metadata": {},
   "outputs": [
    {
     "data": {
      "text/plain": [
       "torch.Size([4328, 2])"
      ]
     },
     "execution_count": 8,
     "metadata": {},
     "output_type": "execute_result"
    }
   ],
   "source": [
    "torch.nonzero(x).shape"
   ]
  },
  {
   "cell_type": "code",
   "execution_count": 9,
   "id": "d7d68e89-65c2-454d-be61-ace7a52db0a7",
   "metadata": {},
   "outputs": [
    {
     "data": {
      "text/plain": [
       "4356"
      ]
     },
     "execution_count": 9,
     "metadata": {},
     "output_type": "execute_result"
    }
   ],
   "source": [
    "66*66"
   ]
  },
  {
   "cell_type": "code",
   "execution_count": 10,
   "id": "755c4bdb-2ea4-42b2-ac6d-389db413259f",
   "metadata": {},
   "outputs": [
    {
     "data": {
      "text/plain": [
       "torch.Size([48, 31])"
      ]
     },
     "execution_count": 10,
     "metadata": {},
     "output_type": "execute_result"
    }
   ],
   "source": [
    "te[0].shape"
   ]
  },
  {
   "cell_type": "code",
   "execution_count": 11,
   "id": "a09c89a0-005c-4910-acd4-59626ff5f24c",
   "metadata": {},
   "outputs": [
    {
     "data": {
      "text/plain": [
       "tensor([0., 0., 0., 1., 0., 0., 0., 0., 0., 0., 0., 0., 0., 1., 0., 0., 0., 0.,\n",
       "        0., 0., 0., 0., 0., 0., 0., 0., 0., 0., 0., 0., 0.])"
      ]
     },
     "execution_count": 11,
     "metadata": {},
     "output_type": "execute_result"
    }
   ],
   "source": [
    "te_train[0][24]"
   ]
  },
  {
   "cell_type": "code",
   "execution_count": 15,
   "id": "f98257ca-b754-4a18-bba0-d87fe4b80879",
   "metadata": {},
   "outputs": [
    {
     "data": {
      "text/plain": [
       "tensor([0., 0., 0., 0., 1., 0., 0., 0., 0., 0., 0., 0., 0., 1., 0., 0., 0., 0.,\n",
       "        0., 0., 0., 0., 0., 0., 0., 0., 0., 0., 0., 0., 0.])"
      ]
     },
     "execution_count": 15,
     "metadata": {},
     "output_type": "execute_result"
    }
   ],
   "source": [
    "te_test[0][24]"
   ]
  },
  {
   "cell_type": "code",
   "execution_count": 16,
   "id": "3d8d889e-135e-4ef5-b705-62f3c2e87d35",
   "metadata": {},
   "outputs": [
    {
     "data": {
      "text/plain": [
       "tensor([0., 0., 0., 0., 0., 1., 0., 0., 0., 0., 0., 0., 0., 1., 0., 0., 0., 0.,\n",
       "        0., 0., 0., 0., 0., 0., 0., 0., 0., 0., 0., 0., 0.])"
      ]
     },
     "execution_count": 16,
     "metadata": {},
     "output_type": "execute_result"
    }
   ],
   "source": [
    "te_test[1][24]"
   ]
  },
  {
   "cell_type": "code",
   "execution_count": 14,
   "id": "c437452b-e197-41d6-b794-22edc6dc4cd4",
   "metadata": {},
   "outputs": [
    {
     "data": {
      "text/plain": [
       "tensor([0., 0., 0., 0., 0., 0., 1., 1., 0., 0., 0., 0., 0., 0., 0., 0., 0., 0.,\n",
       "        0., 0., 0., 0., 0., 0., 0., 0., 0., 0., 0., 0., 0.])"
      ]
     },
     "execution_count": 14,
     "metadata": {},
     "output_type": "execute_result"
    }
   ],
   "source": [
    "te_test[1][42]"
   ]
  },
  {
   "cell_type": "code",
   "execution_count": null,
   "id": "4df5d485-912f-446c-9c46-521290d437ba",
   "metadata": {},
   "outputs": [],
   "source": [
    "import torch\n",
    "\n",
    "# 假设你有一个形状为（B, T, N, D）的特征张量\n",
    "B, T, N, D = 2, 3, 4, 3\n",
    "features = torch.rand(B, T, N, D)\n",
    "\n",
    "# 将特征张量扩展为（B, T, N, 1, D）和（B, T, 1, N, D）的形状\n",
    "expanded_features1 = features.unsqueeze(3)  # shape: (B, T, N, 1, D)\n",
    "expanded_features2 = features.unsqueeze(2)  # shape: (B, T, 1, N, D)\n",
    "\n",
    "# 拼接特征并交换维度\n",
    "concatenated_features = torch.cat((expanded_features1, expanded_features2), dim=4)  # shape: (B, T, N, N, 2D)\n",
    "concatenated_features = concatenated_features.permute(0, 1, 3, 2, 4)  # 交换维度，变为 (B, T, N, N, 2D)\n",
    "\n",
    "# 打印结果\n",
    "print(concatenated_features)\n"
   ]
  },
  {
   "cell_type": "code",
   "execution_count": null,
   "id": "14ce7fc0-f5f4-480b-b0df-eea460a168c0",
   "metadata": {},
   "outputs": [],
   "source": [
    "B, T, N, D = 2, 3, 4, 3\n",
    "features = torch.Tensor([[[1,2],[3,4],[5,6]],[[11,12],[13,14],[15,16]]])\n",
    "features.shape"
   ]
  },
  {
   "cell_type": "code",
   "execution_count": null,
   "id": "c12e1528-711a-4909-9854-f6049879782c",
   "metadata": {},
   "outputs": [],
   "source": [
    "expanded_features1 = features.unsqueeze(1)  # shape: (B, T, N, 1, D)\n",
    "expanded_features2 = features.unsqueeze(2)  # shape: (B, T, 1, N, D)"
   ]
  },
  {
   "cell_type": "code",
   "execution_count": null,
   "id": "38d7d935-8d4b-46dd-8017-e2fc4f75138c",
   "metadata": {},
   "outputs": [],
   "source": [
    "expanded_features1 = expanded_features1.repeat(1,3,1,1)"
   ]
  },
  {
   "cell_type": "code",
   "execution_count": null,
   "id": "4857cb7c-e2e3-4e4e-9dbf-588d16a347b3",
   "metadata": {},
   "outputs": [],
   "source": [
    "expanded_features1.shape"
   ]
  },
  {
   "cell_type": "code",
   "execution_count": null,
   "id": "76170907-3e7b-49be-b20f-544b53ba1db8",
   "metadata": {},
   "outputs": [],
   "source": [
    "expanded_features2 = expanded_features2.repeat(1,1,3,1)"
   ]
  },
  {
   "cell_type": "code",
   "execution_count": null,
   "id": "2619b406-0f6f-40b3-ae44-774c1940f616",
   "metadata": {},
   "outputs": [],
   "source": [
    "expanded_features2.shape"
   ]
  },
  {
   "cell_type": "code",
   "execution_count": null,
   "id": "cbd012ef-b0e4-4933-bbfa-bec431f8caf9",
   "metadata": {},
   "outputs": [],
   "source": [
    "concatenated_features = torch.cat((expanded_features2, expanded_features1), dim=3)"
   ]
  },
  {
   "cell_type": "code",
   "execution_count": null,
   "id": "1bf7bb46-d012-431b-8711-d08087d927e9",
   "metadata": {},
   "outputs": [],
   "source": [
    "concatenated_features"
   ]
  },
  {
   "cell_type": "code",
   "execution_count": null,
   "id": "82a3eb3c-d2ff-45ae-9cef-27774e0e383e",
   "metadata": {},
   "outputs": [],
   "source": [
    "concatenated_features[0][2][0]"
   ]
  },
  {
   "cell_type": "code",
   "execution_count": null,
   "id": "4cbde520-7b96-4a73-ab0d-20f008cdfcac",
   "metadata": {},
   "outputs": [],
   "source": [
    "concatenated_features[1][2][0]"
   ]
  },
  {
   "cell_type": "code",
   "execution_count": null,
   "id": "c5906756-b489-49ca-ac08-96b7b0cacfbc",
   "metadata": {},
   "outputs": [],
   "source": [
    "import torch\n",
    "z = torch.FloatTensor([1,2,3,4,5,6,7,8,9,10,11,12,13,14,15,16])"
   ]
  },
  {
   "cell_type": "code",
   "execution_count": null,
   "id": "0a6416b9-e6ee-4339-b94d-0e6b4d9480a3",
   "metadata": {},
   "outputs": [],
   "source": [
    "z = z.reshape(2,2,4)\n",
    "z"
   ]
  },
  {
   "cell_type": "code",
   "execution_count": null,
   "id": "639b83a0-8a6c-478e-add7-ff5188f4d393",
   "metadata": {},
   "outputs": [],
   "source": [
    "def get_shift_list():\n",
    "        idxs = np.arange(24) # [0,..,23]\n",
    "        window_size = 24 \n",
    "        window_list = np.arange(-(window_size-1)//2,(window_size-1)//2+1,1) # [-2,-1,0,1,2,3]\n",
    "        shift_list = []\n",
    "        for i in window_list:\n",
    "            tmp = idxs+i\n",
    "            tmp[tmp<0] = tmp[tmp<0] + len(idxs)\n",
    "            tmp[tmp>23] = tmp[tmp>23] - len(idxs)\n",
    "            shift_list.append(tmp)\n",
    "        shift_list = np.array(shift_list)\n",
    "        return shift_list,window_list"
   ]
  },
  {
   "cell_type": "code",
   "execution_count": null,
   "id": "6fadb332-f3a5-48f7-9033-a9677c9be02f",
   "metadata": {},
   "outputs": [],
   "source": [
    "import numpy as np\n",
    "shift_list,window_list = get_shift_list()"
   ]
  },
  {
   "cell_type": "code",
   "execution_count": null,
   "id": "bf0da1ba-ee38-409c-a599-38ad5f5ac5e3",
   "metadata": {},
   "outputs": [],
   "source": [
    "shift_list"
   ]
  },
  {
   "cell_type": "code",
   "execution_count": 6,
   "id": "57b56b83-f7a4-44c1-8116-f39210764911",
   "metadata": {},
   "outputs": [
    {
     "name": "stdout",
     "output_type": "stream",
     "text": [
      "odict_keys(['fc_out.weight', 'fc_out.bias', 'fc_x.weight', 'fc_x.bias', 'ste.sf.weight', 'ste.sf.bias', 'ste.pf.weight', 'ste.pf.bias', 'ste.tf.weight', 'ste.tf.bias', 'ste.fc_s.weight', 'ste.fc_s.bias', 'ste.fc_p.weight', 'ste.fc_p.bias', 'ste.fc_t.weight', 'ste.fc_t.bias', 'ste.fc_spe.weight', 'ste.fc_spe.bias', 'ste.fc_ste.weight', 'ste.fc_ste.bias', 'transformAttention.mlp_q.weight', 'transformAttention.mlp_q.bias', 'transformAttention.mlp_k.weight', 'transformAttention.mlp_k.bias', 'transformAttention.mlp_v.weight', 'transformAttention.mlp_v.bias', 'transformAttention.out.weight', 'transformAttention.out.bias', 'sta_encoder.0.fc_q.weight', 'sta_encoder.0.fc_q.bias', 'sta_encoder.0.fc_k.weight', 'sta_encoder.0.fc_k.bias', 'sta_encoder.0.fc_v.weight', 'sta_encoder.0.fc_v.bias', 'sta_encoder.0.dense.weight', 'sta_encoder.0.dense.bias', 'sta_encoder.0.LayerNorm.weight', 'sta_encoder.0.LayerNorm.bias', 'sta_encoder.1.fc_q.weight', 'sta_encoder.1.fc_q.bias', 'sta_encoder.1.fc_k.weight', 'sta_encoder.1.fc_k.bias', 'sta_encoder.1.fc_v.weight', 'sta_encoder.1.fc_v.bias', 'sta_encoder.1.dense.weight', 'sta_encoder.1.dense.bias', 'sta_encoder.1.LayerNorm.weight', 'sta_encoder.1.LayerNorm.bias', 'sta_encoder.2.fc_q.weight', 'sta_encoder.2.fc_q.bias', 'sta_encoder.2.fc_k.weight', 'sta_encoder.2.fc_k.bias', 'sta_encoder.2.fc_v.weight', 'sta_encoder.2.fc_v.bias', 'sta_encoder.2.dense.weight', 'sta_encoder.2.dense.bias', 'sta_encoder.2.LayerNorm.weight', 'sta_encoder.2.LayerNorm.bias', 'sta_encoder.3.fc_q.weight', 'sta_encoder.3.fc_q.bias', 'sta_encoder.3.fc_k.weight', 'sta_encoder.3.fc_k.bias', 'sta_encoder.3.fc_v.weight', 'sta_encoder.3.fc_v.bias', 'sta_encoder.3.dense.weight', 'sta_encoder.3.dense.bias', 'sta_encoder.3.LayerNorm.weight', 'sta_encoder.3.LayerNorm.bias', 'sta_decoder.0.fc_q.weight', 'sta_decoder.0.fc_q.bias', 'sta_decoder.0.fc_k.weight', 'sta_decoder.0.fc_k.bias', 'sta_decoder.0.fc_v.weight', 'sta_decoder.0.fc_v.bias', 'sta_decoder.0.dense.weight', 'sta_decoder.0.dense.bias', 'sta_decoder.0.LayerNorm.weight', 'sta_decoder.0.LayerNorm.bias', 'sta_decoder.1.fc_q.weight', 'sta_decoder.1.fc_q.bias', 'sta_decoder.1.fc_k.weight', 'sta_decoder.1.fc_k.bias', 'sta_decoder.1.fc_v.weight', 'sta_decoder.1.fc_v.bias', 'sta_decoder.1.dense.weight', 'sta_decoder.1.dense.bias', 'sta_decoder.1.LayerNorm.weight', 'sta_decoder.1.LayerNorm.bias', 'sta_decoder.2.fc_q.weight', 'sta_decoder.2.fc_q.bias', 'sta_decoder.2.fc_k.weight', 'sta_decoder.2.fc_k.bias', 'sta_decoder.2.fc_v.weight', 'sta_decoder.2.fc_v.bias', 'sta_decoder.2.dense.weight', 'sta_decoder.2.dense.bias', 'sta_decoder.2.LayerNorm.weight', 'sta_decoder.2.LayerNorm.bias', 'sta_decoder.3.fc_q.weight', 'sta_decoder.3.fc_q.bias', 'sta_decoder.3.fc_k.weight', 'sta_decoder.3.fc_k.bias', 'sta_decoder.3.fc_v.weight', 'sta_decoder.3.fc_v.bias', 'sta_decoder.3.dense.weight', 'sta_decoder.3.dense.bias', 'sta_decoder.3.LayerNorm.weight', 'sta_decoder.3.LayerNorm.bias', 'out.fc.weight', 'out.fc.bias', 'out.out.weight', 'out.out.bias'])\n"
     ]
    }
   ],
   "source": [
    "import torch\n",
    "\n",
    "content = torch.load('../model/model_meta_seed_114514__epoch_300_batchsize_32_lr_0.001.pth')\n",
    "\n",
    "# 使用读取的数据\n",
    "print(content.keys())"
   ]
  },
  {
   "cell_type": "code",
   "execution_count": 24,
   "id": "38a48e93-64d5-4663-8804-eb6e3c351806",
   "metadata": {},
   "outputs": [],
   "source": [
    "x = torch.ones(16,24,66,66,128)"
   ]
  },
  {
   "cell_type": "code",
   "execution_count": 25,
   "id": "f6f02d55-6a4e-409d-9c2b-a1481fa75ac0",
   "metadata": {},
   "outputs": [],
   "source": [
    "a = torch.matmul(x,x.transpose(-1,-2))"
   ]
  },
  {
   "cell_type": "code",
   "execution_count": 26,
   "id": "1ac70128-2510-4d96-802a-a60948b7e60e",
   "metadata": {},
   "outputs": [
    {
     "data": {
      "text/plain": [
       "tensor([[128., 128., 128.,  ..., 128., 128., 128.],\n",
       "        [128., 128., 128.,  ..., 128., 128., 128.],\n",
       "        [128., 128., 128.,  ..., 128., 128., 128.],\n",
       "        ...,\n",
       "        [128., 128., 128.,  ..., 128., 128., 128.],\n",
       "        [128., 128., 128.,  ..., 128., 128., 128.],\n",
       "        [128., 128., 128.,  ..., 128., 128., 128.]])"
      ]
     },
     "execution_count": 26,
     "metadata": {},
     "output_type": "execute_result"
    }
   ],
   "source": [
    "a[0][0][0]"
   ]
  },
  {
   "cell_type": "code",
   "execution_count": 28,
   "id": "4dd881a9-4082-4a33-9029-6e5f90a166f8",
   "metadata": {},
   "outputs": [],
   "source": [
    "x = torch.Tensor([[[1,2,3],[4,5,6]],[[11,12,13],[14,15,16]]])"
   ]
  },
  {
   "cell_type": "code",
   "execution_count": 29,
   "id": "a6191608-89fd-4e1f-9b58-d8a51147de63",
   "metadata": {},
   "outputs": [
    {
     "data": {
      "text/plain": [
       "torch.Size([2, 2, 3])"
      ]
     },
     "execution_count": 29,
     "metadata": {},
     "output_type": "execute_result"
    }
   ],
   "source": [
    "x.shape"
   ]
  },
  {
   "cell_type": "code",
   "execution_count": 30,
   "id": "0dc1fb6c-d087-408d-8028-9c29f18a4730",
   "metadata": {},
   "outputs": [
    {
     "data": {
      "text/plain": [
       "tensor([1., 2., 3.])"
      ]
     },
     "execution_count": 30,
     "metadata": {},
     "output_type": "execute_result"
    }
   ],
   "source": [
    "x[0][0]"
   ]
  },
  {
   "cell_type": "code",
   "execution_count": 31,
   "id": "d2c7944d-d4ac-4e11-8460-8accb49b85ee",
   "metadata": {},
   "outputs": [
    {
     "data": {
      "text/plain": [
       "tensor([4., 5., 6.])"
      ]
     },
     "execution_count": 31,
     "metadata": {},
     "output_type": "execute_result"
    }
   ],
   "source": [
    "x[0][1]"
   ]
  },
  {
   "cell_type": "code",
   "execution_count": 32,
   "id": "5487cb63-1b64-4143-9df8-eae6c3b576d6",
   "metadata": {},
   "outputs": [],
   "source": [
    "N,N,D = x.size()"
   ]
  },
  {
   "cell_type": "code",
   "execution_count": 44,
   "id": "48258c2e-9233-413b-8f67-58a9eb07b6ac",
   "metadata": {},
   "outputs": [],
   "source": [
    " # 查询、键和值\n",
    "query = x\n",
    "key = x\n",
    "value = x\n",
    "\n",
    "# 计算注意力分数\n",
    "scores = torch.matmul(query, key.transpose(1, 2))"
   ]
  },
  {
   "cell_type": "code",
   "execution_count": 50,
   "id": "0c11d16e-19da-45e8-9400-4a87dfb5de9b",
   "metadata": {},
   "outputs": [
    {
     "data": {
      "text/plain": [
       "torch.Size([2, 2, 2])"
      ]
     },
     "execution_count": 50,
     "metadata": {},
     "output_type": "execute_result"
    }
   ],
   "source": [
    "scores.shape"
   ]
  },
  {
   "cell_type": "code",
   "execution_count": 48,
   "id": "aeac52d6-e61d-4907-a1d0-46c34916cb56",
   "metadata": {},
   "outputs": [
    {
     "data": {
      "text/plain": [
       "tensor(14.)"
      ]
     },
     "execution_count": 48,
     "metadata": {},
     "output_type": "execute_result"
    }
   ],
   "source": [
    "scores[0][0][0]"
   ]
  },
  {
   "cell_type": "code",
   "execution_count": 49,
   "id": "aba16972-da68-42d5-944a-7f1130747c31",
   "metadata": {},
   "outputs": [
    {
     "data": {
      "text/plain": [
       "tensor(32.)"
      ]
     },
     "execution_count": 49,
     "metadata": {},
     "output_type": "execute_result"
    }
   ],
   "source": [
    "scores[0][0][1]"
   ]
  },
  {
   "cell_type": "code",
   "execution_count": 10,
   "id": "36fce221-c349-4bf9-abc3-b89311bf9b8f",
   "metadata": {},
   "outputs": [],
   "source": [
    "import numpy as np\n",
    "window_list = np.arange(-(1-1)//2-1,(1-1)//2,1)"
   ]
  },
  {
   "cell_type": "code",
   "execution_count": 11,
   "id": "10d731b6-e0d4-4ed8-9e42-f59ef39e002c",
   "metadata": {},
   "outputs": [
    {
     "data": {
      "text/plain": [
       "array([-1])"
      ]
     },
     "execution_count": 11,
     "metadata": {},
     "output_type": "execute_result"
    }
   ],
   "source": [
    "window_list"
   ]
  },
  {
   "cell_type": "code",
   "execution_count": 72,
   "id": "313a44ca-58b6-42b3-ad5e-6b9605eca1d7",
   "metadata": {},
   "outputs": [],
   "source": [
    "import torch"
   ]
  },
  {
   "cell_type": "code",
   "execution_count": 73,
   "id": "cee64d98-8733-4195-891f-87d3c61df3f3",
   "metadata": {},
   "outputs": [],
   "source": [
    "x = torch.FloatTensor([[[1,2],[3,4]],[[5,6],[7,8]]])"
   ]
  },
  {
   "cell_type": "code",
   "execution_count": 74,
   "id": "5cee3c16-7a4f-4aad-a894-779ffd549236",
   "metadata": {},
   "outputs": [
    {
     "data": {
      "text/plain": [
       "torch.Size([2, 2, 2])"
      ]
     },
     "execution_count": 74,
     "metadata": {},
     "output_type": "execute_result"
    }
   ],
   "source": [
    "x.shape"
   ]
  },
  {
   "cell_type": "code",
   "execution_count": 75,
   "id": "2a8d7eb0-8111-4d03-ab36-a2108a6f6286",
   "metadata": {},
   "outputs": [
    {
     "data": {
      "text/plain": [
       "tensor([[[1., 2.],\n",
       "         [3., 4.]],\n",
       "\n",
       "        [[5., 6.],\n",
       "         [7., 8.]]])"
      ]
     },
     "execution_count": 75,
     "metadata": {},
     "output_type": "execute_result"
    }
   ],
   "source": [
    "x"
   ]
  },
  {
   "cell_type": "code",
   "execution_count": 76,
   "id": "14d2e0f3-30fb-4d5f-a7bc-9f4a3dc97005",
   "metadata": {},
   "outputs": [
    {
     "data": {
      "text/plain": [
       "tensor([1., 2.])"
      ]
     },
     "execution_count": 76,
     "metadata": {},
     "output_type": "execute_result"
    }
   ],
   "source": [
    "x[0][0]"
   ]
  },
  {
   "cell_type": "code",
   "execution_count": 77,
   "id": "3608a704-bc03-4931-b32d-ad114567049d",
   "metadata": {},
   "outputs": [
    {
     "data": {
      "text/plain": [
       "tensor([3., 4.])"
      ]
     },
     "execution_count": 77,
     "metadata": {},
     "output_type": "execute_result"
    }
   ],
   "source": [
    "x[0][1]"
   ]
  },
  {
   "cell_type": "code",
   "execution_count": 78,
   "id": "1e758990-92e8-4740-a054-04f68c610bcf",
   "metadata": {},
   "outputs": [
    {
     "data": {
      "text/plain": [
       "tensor([5., 6.])"
      ]
     },
     "execution_count": 78,
     "metadata": {},
     "output_type": "execute_result"
    }
   ],
   "source": [
    "x[1][0]"
   ]
  },
  {
   "cell_type": "code",
   "execution_count": 79,
   "id": "f192bb0e-cec9-4f83-a3d0-89d9d85eb6de",
   "metadata": {},
   "outputs": [
    {
     "data": {
      "text/plain": [
       "tensor([7., 8.])"
      ]
     },
     "execution_count": 79,
     "metadata": {},
     "output_type": "execute_result"
    }
   ],
   "source": [
    "x[1][1]"
   ]
  },
  {
   "cell_type": "code",
   "execution_count": 80,
   "id": "daef3453-dd48-49b7-bb21-71895c9d72cf",
   "metadata": {},
   "outputs": [
    {
     "data": {
      "text/plain": [
       "tensor(5.)"
      ]
     },
     "execution_count": 80,
     "metadata": {},
     "output_type": "execute_result"
    }
   ],
   "source": [
    "x[0][0].matmul(x[0][0])"
   ]
  },
  {
   "cell_type": "code",
   "execution_count": 81,
   "id": "295e67df-4dc2-4a28-ba0a-606c1b8ef8ea",
   "metadata": {},
   "outputs": [
    {
     "data": {
      "text/plain": [
       "tensor(11.)"
      ]
     },
     "execution_count": 81,
     "metadata": {},
     "output_type": "execute_result"
    }
   ],
   "source": [
    "x[0][0].matmul(x[0][1])"
   ]
  },
  {
   "cell_type": "code",
   "execution_count": 82,
   "id": "8d048fad-3de4-4884-a66b-3ca99c62e084",
   "metadata": {},
   "outputs": [
    {
     "data": {
      "text/plain": [
       "tensor(11.)"
      ]
     },
     "execution_count": 82,
     "metadata": {},
     "output_type": "execute_result"
    }
   ],
   "source": [
    "x[0][1].matmul(x[0][0])"
   ]
  },
  {
   "cell_type": "code",
   "execution_count": 83,
   "id": "515e44d8-6ac0-46cd-9e6f-f9602f4a748c",
   "metadata": {},
   "outputs": [
    {
     "data": {
      "text/plain": [
       "tensor(25.)"
      ]
     },
     "execution_count": 83,
     "metadata": {},
     "output_type": "execute_result"
    }
   ],
   "source": [
    "x[0][1].matmul(x[0][1])"
   ]
  },
  {
   "cell_type": "code",
   "execution_count": 84,
   "id": "3bff0ade-2e95-4dc4-a2f5-d8bf79902ef1",
   "metadata": {},
   "outputs": [
    {
     "data": {
      "text/plain": [
       "tensor(61.)"
      ]
     },
     "execution_count": 84,
     "metadata": {},
     "output_type": "execute_result"
    }
   ],
   "source": [
    "x[1][0].matmul(x[1][0])"
   ]
  },
  {
   "cell_type": "code",
   "execution_count": 85,
   "id": "81061f29-1d53-46a6-aa0f-60b9fdf7364a",
   "metadata": {},
   "outputs": [
    {
     "data": {
      "text/plain": [
       "tensor(83.)"
      ]
     },
     "execution_count": 85,
     "metadata": {},
     "output_type": "execute_result"
    }
   ],
   "source": [
    "x[1][0].matmul(x[1][1])"
   ]
  },
  {
   "cell_type": "code",
   "execution_count": 86,
   "id": "0e58cc14-a917-4373-9b8e-369b11f3b5e9",
   "metadata": {},
   "outputs": [
    {
     "data": {
      "text/plain": [
       "tensor(83.)"
      ]
     },
     "execution_count": 86,
     "metadata": {},
     "output_type": "execute_result"
    }
   ],
   "source": [
    "x[1][1].matmul(x[1][0])"
   ]
  },
  {
   "cell_type": "code",
   "execution_count": 87,
   "id": "580fc8e4-667f-4e57-b9f2-6b3390f20c19",
   "metadata": {},
   "outputs": [
    {
     "data": {
      "text/plain": [
       "tensor(113.)"
      ]
     },
     "execution_count": 87,
     "metadata": {},
     "output_type": "execute_result"
    }
   ],
   "source": [
    "x[1][1].matmul(x[1][1])"
   ]
  },
  {
   "cell_type": "code",
   "execution_count": 88,
   "id": "8c923fad-3175-407d-ad3a-11fcae330e25",
   "metadata": {},
   "outputs": [],
   "source": [
    "y = x.matmul(x.transpose(-1,-2))"
   ]
  },
  {
   "cell_type": "code",
   "execution_count": 89,
   "id": "13bbce5c-0294-443e-92c5-280031f8e072",
   "metadata": {},
   "outputs": [
    {
     "data": {
      "text/plain": [
       "torch.Size([2, 2, 2])"
      ]
     },
     "execution_count": 89,
     "metadata": {},
     "output_type": "execute_result"
    }
   ],
   "source": [
    "y.shape"
   ]
  },
  {
   "cell_type": "code",
   "execution_count": 90,
   "id": "10104de1-4b31-4738-a38f-2fe12c682784",
   "metadata": {},
   "outputs": [
    {
     "data": {
      "text/plain": [
       "tensor([61., 83.])"
      ]
     },
     "execution_count": 90,
     "metadata": {},
     "output_type": "execute_result"
    }
   ],
   "source": [
    "y[1][0]"
   ]
  },
  {
   "cell_type": "code",
   "execution_count": 91,
   "id": "e8acfcc4-9cec-47ba-8ee0-85dcbf420477",
   "metadata": {},
   "outputs": [],
   "source": [
    "z = torch.matmul(x,y)"
   ]
  },
  {
   "cell_type": "code",
   "execution_count": 92,
   "id": "4a2009f0-af0e-47a6-9a3a-dc9766beaad8",
   "metadata": {},
   "outputs": [
    {
     "data": {
      "text/plain": [
       "tensor([[[  27.,   61.],\n",
       "         [  59.,  133.]],\n",
       "\n",
       "        [[ 803., 1093.],\n",
       "         [1091., 1485.]]])"
      ]
     },
     "execution_count": 92,
     "metadata": {},
     "output_type": "execute_result"
    }
   ],
   "source": [
    "z"
   ]
  },
  {
   "cell_type": "code",
   "execution_count": 93,
   "id": "b51d6206-26d3-4b43-8036-0f39f03d59cb",
   "metadata": {},
   "outputs": [
    {
     "data": {
      "text/plain": [
       "tensor([27., 61.])"
      ]
     },
     "execution_count": 93,
     "metadata": {},
     "output_type": "execute_result"
    }
   ],
   "source": [
    "z[0][0]"
   ]
  },
  {
   "cell_type": "code",
   "execution_count": 94,
   "id": "dcfb5b30-af51-4454-bf2d-36cd93975b0f",
   "metadata": {},
   "outputs": [
    {
     "data": {
      "text/plain": [
       "tensor([1., 2.])"
      ]
     },
     "execution_count": 94,
     "metadata": {},
     "output_type": "execute_result"
    }
   ],
   "source": [
    "x[0][0]"
   ]
  },
  {
   "cell_type": "code",
   "execution_count": 95,
   "id": "6f878fb6-e256-49ac-b780-02d7e3ec53ed",
   "metadata": {},
   "outputs": [
    {
     "data": {
      "text/plain": [
       "tensor([5., 6.])"
      ]
     },
     "execution_count": 95,
     "metadata": {},
     "output_type": "execute_result"
    }
   ],
   "source": [
    "x[1][0]"
   ]
  },
  {
   "cell_type": "code",
   "execution_count": 96,
   "id": "d2835e13-fd6b-4204-936d-dc49a4f13d98",
   "metadata": {},
   "outputs": [
    {
     "data": {
      "text/plain": [
       "tensor(5.)"
      ]
     },
     "execution_count": 96,
     "metadata": {},
     "output_type": "execute_result"
    }
   ],
   "source": [
    "torch.matmul(x[0][0],x[0][0])"
   ]
  },
  {
   "cell_type": "code",
   "execution_count": 97,
   "id": "481102ff-98b8-43ce-bf2f-6f04e62258f6",
   "metadata": {},
   "outputs": [
    {
     "data": {
      "text/plain": [
       "tensor(17.)"
      ]
     },
     "execution_count": 97,
     "metadata": {},
     "output_type": "execute_result"
    }
   ],
   "source": [
    "torch.matmul(x[0][0],x[1][0])"
   ]
  },
  {
   "cell_type": "code",
   "execution_count": 98,
   "id": "556591c8-fa2f-4105-9599-2d0886791d4d",
   "metadata": {},
   "outputs": [
    {
     "data": {
      "text/plain": [
       "tensor(17.)"
      ]
     },
     "execution_count": 98,
     "metadata": {},
     "output_type": "execute_result"
    }
   ],
   "source": [
    "torch.matmul(x[1][0],x[0][0])"
   ]
  },
  {
   "cell_type": "code",
   "execution_count": 99,
   "id": "ef854c28-beb1-431a-a8e9-d5efa5c3bad1",
   "metadata": {},
   "outputs": [
    {
     "data": {
      "text/plain": [
       "tensor(61.)"
      ]
     },
     "execution_count": 99,
     "metadata": {},
     "output_type": "execute_result"
    }
   ],
   "source": [
    "torch.matmul(x[1][0],x[1][0])"
   ]
  },
  {
   "cell_type": "code",
   "execution_count": 104,
   "id": "b5bc55bb-c949-4803-ae26-b4f3b81310df",
   "metadata": {},
   "outputs": [],
   "source": [
    "x_trans = x.transpose(0,1)"
   ]
  },
  {
   "cell_type": "code",
   "execution_count": 105,
   "id": "295c0d8c-e0ac-44c4-accc-12662a6bcdb0",
   "metadata": {},
   "outputs": [
    {
     "data": {
      "text/plain": [
       "tensor([[[1., 2.],\n",
       "         [5., 6.]],\n",
       "\n",
       "        [[3., 4.],\n",
       "         [7., 8.]]])"
      ]
     },
     "execution_count": 105,
     "metadata": {},
     "output_type": "execute_result"
    }
   ],
   "source": [
    "x_trans"
   ]
  },
  {
   "cell_type": "code",
   "execution_count": 106,
   "id": "ddbf7393-16dc-410d-95ae-a2c56071a94c",
   "metadata": {},
   "outputs": [
    {
     "data": {
      "text/plain": [
       "tensor([1., 2.])"
      ]
     },
     "execution_count": 106,
     "metadata": {},
     "output_type": "execute_result"
    }
   ],
   "source": [
    "x_trans[0][0]"
   ]
  },
  {
   "cell_type": "code",
   "execution_count": 107,
   "id": "f8aa4af5-deb5-4fbf-90e4-e0b1b16de37f",
   "metadata": {},
   "outputs": [
    {
     "data": {
      "text/plain": [
       "tensor([5., 6.])"
      ]
     },
     "execution_count": 107,
     "metadata": {},
     "output_type": "execute_result"
    }
   ],
   "source": [
    "x_trans[0][1]"
   ]
  },
  {
   "cell_type": "code",
   "execution_count": 108,
   "id": "16a2c04a-2376-4e41-ae15-345933d0d9c4",
   "metadata": {},
   "outputs": [
    {
     "data": {
      "text/plain": [
       "tensor([3., 4.])"
      ]
     },
     "execution_count": 108,
     "metadata": {},
     "output_type": "execute_result"
    }
   ],
   "source": [
    "x_trans[1][0]"
   ]
  },
  {
   "cell_type": "code",
   "execution_count": 109,
   "id": "732ede54-1e5d-4285-be76-21bbe1ea8bc6",
   "metadata": {},
   "outputs": [],
   "source": [
    "a = x_trans.matmul(x_trans.transpose(-1,-2))"
   ]
  },
  {
   "cell_type": "code",
   "execution_count": 110,
   "id": "7315f4fc-cdfe-460b-af08-75d2057ad4ac",
   "metadata": {},
   "outputs": [
    {
     "data": {
      "text/plain": [
       "tensor([[[  5.,  17.],\n",
       "         [ 17.,  61.]],\n",
       "\n",
       "        [[ 25.,  53.],\n",
       "         [ 53., 113.]]])"
      ]
     },
     "execution_count": 110,
     "metadata": {},
     "output_type": "execute_result"
    }
   ],
   "source": [
    "a"
   ]
  },
  {
   "cell_type": "code",
   "execution_count": 111,
   "id": "6c2b6aaf-5e85-4484-8dfe-e20c2243e451",
   "metadata": {},
   "outputs": [
    {
     "data": {
      "text/plain": [
       "tensor([ 5., 17.])"
      ]
     },
     "execution_count": 111,
     "metadata": {},
     "output_type": "execute_result"
    }
   ],
   "source": [
    "a[0][0]"
   ]
  },
  {
   "cell_type": "code",
   "execution_count": 112,
   "id": "f665067c-1eb5-4a70-8933-0ac14968b0e9",
   "metadata": {},
   "outputs": [
    {
     "data": {
      "text/plain": [
       "tensor([17., 61.])"
      ]
     },
     "execution_count": 112,
     "metadata": {},
     "output_type": "execute_result"
    }
   ],
   "source": [
    "a[0][1]"
   ]
  },
  {
   "cell_type": "code",
   "execution_count": 1,
   "id": "6e2e17c1-d86a-4f3c-be69-024bf6001747",
   "metadata": {},
   "outputs": [],
   "source": [
    "import numpy as np"
   ]
  },
  {
   "cell_type": "code",
   "execution_count": null,
   "id": "70358393-1bf6-4940-bfda-cef6d0cfc845",
   "metadata": {},
   "outputs": [],
   "source": [
    "z = np.load('oddata.npy', allow_pickle=True)"
   ]
  },
  {
   "cell_type": "code",
   "execution_count": null,
   "id": "7813dc1d-d456-40ba-8e49-8dfdf488056e",
   "metadata": {},
   "outputs": [],
   "source": [
    "z.shape"
   ]
  },
  {
   "cell_type": "code",
   "execution_count": null,
   "id": "6648bceb-1d98-4bc6-9d5e-347e57ca9a34",
   "metadata": {},
   "outputs": [],
   "source": []
  }
 ],
 "metadata": {
  "kernelspec": {
   "display_name": "dissertation",
   "language": "python",
   "name": "dissertation"
  },
  "language_info": {
   "codemirror_mode": {
    "name": "ipython",
    "version": 3
   },
   "file_extension": ".py",
   "mimetype": "text/x-python",
   "name": "python",
   "nbconvert_exporter": "python",
   "pygments_lexer": "ipython3",
   "version": "3.11.5"
  }
 },
 "nbformat": 4,
 "nbformat_minor": 5
}
