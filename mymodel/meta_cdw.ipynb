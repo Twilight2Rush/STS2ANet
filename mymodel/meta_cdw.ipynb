{
 "cells": [
  {
   "cell_type": "code",
   "execution_count": 1,
   "metadata": {},
   "outputs": [],
   "source": [
    "import torch\n",
    "import torch.optim as optim\n",
    "from torch.optim.lr_scheduler import StepLR\n",
    "from utils import od_dataloader,masked_mse, ODLoss,set_seed\n",
    "from config import get_configs\n",
    "import numpy as np\n",
    "import pandas as pd\n",
    "from models import MSSTA, META, META_CD, META_CDW\n",
    "from lib import train, test"
   ]
  },
  {
   "cell_type": "code",
   "execution_count": 2,
   "metadata": {},
   "outputs": [],
   "source": [
    "args = get_configs()"
   ]
  },
  {
   "cell_type": "code",
   "execution_count": 3,
   "metadata": {},
   "outputs": [
    {
     "name": "stdout",
     "output_type": "stream",
     "text": [
      "train number:290\n",
      "validation number:36\n",
      "test number:37\n"
     ]
    }
   ],
   "source": [
    "train_dataloader,val_dataloader, test_dataloader, z_adj = od_dataloader(args)"
   ]
  },
  {
   "cell_type": "code",
   "execution_count": 4,
   "metadata": {},
   "outputs": [],
   "source": [
    "se = torch.Tensor(np.load(args.se_path)).to(args.device)\n",
    "pe = torch.Tensor(pd.read_csv(args.pe_path,index_col=0).values).to(args.device)"
   ]
  },
  {
   "cell_type": "code",
   "execution_count": 5,
   "metadata": {},
   "outputs": [],
   "source": [
    "args.model_name = 'meta'\n",
    "args.batch_size = 32"
   ]
  },
  {
   "cell_type": "code",
   "execution_count": 6,
   "metadata": {},
   "outputs": [],
   "source": [
    "# model = MSSTA(args.num_nodes,args.n_feature,\n",
    "#         args.in_seq_len,\n",
    "#         args.out_seq_len,\n",
    "#         args.s_feature,\n",
    "#         args.p_feature,\n",
    "#         args.t_feature,\n",
    "#         args.hidden_channels,\n",
    "#         args.d_model,\n",
    "#         args.heads,\n",
    "#         args.num_encoder_layers)"
   ]
  },
  {
   "cell_type": "code",
   "execution_count": 7,
   "metadata": {},
   "outputs": [],
   "source": [
    "# model = META_CDW(args.heads,args.d_model,args.in_seq_len,args.num_nodes,args.num_encoder_layers,args.his_window)"
   ]
  },
  {
   "cell_type": "code",
   "execution_count": 8,
   "metadata": {},
   "outputs": [],
   "source": [
    "model = META(args.heads,args.d_model,args.in_seq_len,args.num_nodes,args.num_encoder_layers)"
   ]
  },
  {
   "cell_type": "code",
   "execution_count": 9,
   "metadata": {},
   "outputs": [],
   "source": [
    "# seeds = [42, 3407, 114514]\n",
    "seeds = [42]"
   ]
  },
  {
   "cell_type": "code",
   "execution_count": 10,
   "metadata": {},
   "outputs": [
    {
     "name": "stdout",
     "output_type": "stream",
     "text": [
      "../model/model_meta_seed_42__epoch_300_batchsize_32_lr_0.001.pth\n"
     ]
    },
    {
     "ename": "RuntimeError",
     "evalue": "Error(s) in loading state_dict for META:\n\tMissing key(s) in state_dict: \"dense.weight\", \"dense.bias\", \"fc.weight\", \"fc.bias\", \"encoder.0.self_attn.in_proj_weight\", \"encoder.0.self_attn.in_proj_bias\", \"encoder.0.self_attn.out_proj.weight\", \"encoder.0.self_attn.out_proj.bias\", \"encoder.0.linear1.weight\", \"encoder.0.linear1.bias\", \"encoder.0.linear2.weight\", \"encoder.0.linear2.bias\", \"encoder.0.norm1.weight\", \"encoder.0.norm1.bias\", \"encoder.0.norm2.weight\", \"encoder.0.norm2.bias\", \"encoder.1.self_attn.in_proj_weight\", \"encoder.1.self_attn.in_proj_bias\", \"encoder.1.self_attn.out_proj.weight\", \"encoder.1.self_attn.out_proj.bias\", \"encoder.1.linear1.weight\", \"encoder.1.linear1.bias\", \"encoder.1.linear2.weight\", \"encoder.1.linear2.bias\", \"encoder.1.norm1.weight\", \"encoder.1.norm1.bias\", \"encoder.1.norm2.weight\", \"encoder.1.norm2.bias\", \"encoder.2.self_attn.in_proj_weight\", \"encoder.2.self_attn.in_proj_bias\", \"encoder.2.self_attn.out_proj.weight\", \"encoder.2.self_attn.out_proj.bias\", \"encoder.2.linear1.weight\", \"encoder.2.linear1.bias\", \"encoder.2.linear2.weight\", \"encoder.2.linear2.bias\", \"encoder.2.norm1.weight\", \"encoder.2.norm1.bias\", \"encoder.2.norm2.weight\", \"encoder.2.norm2.bias\", \"encoder.3.self_attn.in_proj_weight\", \"encoder.3.self_attn.in_proj_bias\", \"encoder.3.self_attn.out_proj.weight\", \"encoder.3.self_attn.out_proj.bias\", \"encoder.3.linear1.weight\", \"encoder.3.linear1.bias\", \"encoder.3.linear2.weight\", \"encoder.3.linear2.bias\", \"encoder.3.norm1.weight\", \"encoder.3.norm1.bias\", \"encoder.3.norm2.weight\", \"encoder.3.norm2.bias\", \"positional_encoding.positional_encoding\". \n\tUnexpected key(s) in state_dict: \"fc_out.weight\", \"fc_out.bias\", \"fc_x.weight\", \"fc_x.bias\", \"sta_encoder.0.fc_q.weight\", \"sta_encoder.0.fc_q.bias\", \"sta_encoder.0.fc_k.weight\", \"sta_encoder.0.fc_k.bias\", \"sta_encoder.0.fc_v.weight\", \"sta_encoder.0.fc_v.bias\", \"sta_encoder.0.dense.weight\", \"sta_encoder.0.dense.bias\", \"sta_encoder.0.LayerNorm.weight\", \"sta_encoder.0.LayerNorm.bias\", \"sta_encoder.1.fc_q.weight\", \"sta_encoder.1.fc_q.bias\", \"sta_encoder.1.fc_k.weight\", \"sta_encoder.1.fc_k.bias\", \"sta_encoder.1.fc_v.weight\", \"sta_encoder.1.fc_v.bias\", \"sta_encoder.1.dense.weight\", \"sta_encoder.1.dense.bias\", \"sta_encoder.1.LayerNorm.weight\", \"sta_encoder.1.LayerNorm.bias\", \"sta_encoder.2.fc_q.weight\", \"sta_encoder.2.fc_q.bias\", \"sta_encoder.2.fc_k.weight\", \"sta_encoder.2.fc_k.bias\", \"sta_encoder.2.fc_v.weight\", \"sta_encoder.2.fc_v.bias\", \"sta_encoder.2.dense.weight\", \"sta_encoder.2.dense.bias\", \"sta_encoder.2.LayerNorm.weight\", \"sta_encoder.2.LayerNorm.bias\", \"sta_encoder.3.fc_q.weight\", \"sta_encoder.3.fc_q.bias\", \"sta_encoder.3.fc_k.weight\", \"sta_encoder.3.fc_k.bias\", \"sta_encoder.3.fc_v.weight\", \"sta_encoder.3.fc_v.bias\", \"sta_encoder.3.dense.weight\", \"sta_encoder.3.dense.bias\", \"sta_encoder.3.LayerNorm.weight\", \"sta_encoder.3.LayerNorm.bias\", \"sta_decoder.0.fc_q.weight\", \"sta_decoder.0.fc_q.bias\", \"sta_decoder.0.fc_k.weight\", \"sta_decoder.0.fc_k.bias\", \"sta_decoder.0.fc_v.weight\", \"sta_decoder.0.fc_v.bias\", \"sta_decoder.0.dense.weight\", \"sta_decoder.0.dense.bias\", \"sta_decoder.0.LayerNorm.weight\", \"sta_decoder.0.LayerNorm.bias\", \"sta_decoder.1.fc_q.weight\", \"sta_decoder.1.fc_q.bias\", \"sta_decoder.1.fc_k.weight\", \"sta_decoder.1.fc_k.bias\", \"sta_decoder.1.fc_v.weight\", \"sta_decoder.1.fc_v.bias\", \"sta_decoder.1.dense.weight\", \"sta_decoder.1.dense.bias\", \"sta_decoder.1.LayerNorm.weight\", \"sta_decoder.1.LayerNorm.bias\", \"sta_decoder.2.fc_q.weight\", \"sta_decoder.2.fc_q.bias\", \"sta_decoder.2.fc_k.weight\", \"sta_decoder.2.fc_k.bias\", \"sta_decoder.2.fc_v.weight\", \"sta_decoder.2.fc_v.bias\", \"sta_decoder.2.dense.weight\", \"sta_decoder.2.dense.bias\", \"sta_decoder.2.LayerNorm.weight\", \"sta_decoder.2.LayerNorm.bias\", \"sta_decoder.3.fc_q.weight\", \"sta_decoder.3.fc_q.bias\", \"sta_decoder.3.fc_k.weight\", \"sta_decoder.3.fc_k.bias\", \"sta_decoder.3.fc_v.weight\", \"sta_decoder.3.fc_v.bias\", \"sta_decoder.3.dense.weight\", \"sta_decoder.3.dense.bias\", \"sta_decoder.3.LayerNorm.weight\", \"sta_decoder.3.LayerNorm.bias\", \"out.fc.weight\", \"out.fc.bias\", \"out.out.weight\", \"out.out.bias\". ",
     "output_type": "error",
     "traceback": [
      "\u001b[0;31m---------------------------------------------------------------------------\u001b[0m",
      "\u001b[0;31mRuntimeError\u001b[0m                              Traceback (most recent call last)",
      "Cell \u001b[0;32mIn[10], line 7\u001b[0m\n\u001b[1;32m      5\u001b[0m criterion \u001b[38;5;241m=\u001b[39m ODLoss\n\u001b[1;32m      6\u001b[0m \u001b[38;5;28mprint\u001b[39m(\u001b[38;5;124mf\u001b[39m\u001b[38;5;124m\"\u001b[39m\u001b[38;5;132;01m{\u001b[39;00margs\u001b[38;5;241m.\u001b[39mmodel_path\u001b[38;5;132;01m}\u001b[39;00m\u001b[38;5;124m/model_\u001b[39m\u001b[38;5;132;01m{\u001b[39;00margs\u001b[38;5;241m.\u001b[39mmodel_name\u001b[38;5;132;01m}\u001b[39;00m\u001b[38;5;124m_seed_\u001b[39m\u001b[38;5;132;01m{\u001b[39;00margs\u001b[38;5;241m.\u001b[39mseed\u001b[38;5;132;01m}\u001b[39;00m\u001b[38;5;124m__epoch_\u001b[39m\u001b[38;5;132;01m{\u001b[39;00margs\u001b[38;5;241m.\u001b[39mepoch\u001b[38;5;132;01m}\u001b[39;00m\u001b[38;5;124m_batchsize_\u001b[39m\u001b[38;5;132;01m{\u001b[39;00margs\u001b[38;5;241m.\u001b[39mbatch_size\u001b[38;5;132;01m}\u001b[39;00m\u001b[38;5;124m_lr_\u001b[39m\u001b[38;5;132;01m{\u001b[39;00margs\u001b[38;5;241m.\u001b[39mlr\u001b[38;5;132;01m}\u001b[39;00m\u001b[38;5;124m.pth\u001b[39m\u001b[38;5;124m\"\u001b[39m)\n\u001b[0;32m----> 7\u001b[0m \u001b[43mmodel\u001b[49m\u001b[38;5;241;43m.\u001b[39;49m\u001b[43mload_state_dict\u001b[49m\u001b[43m(\u001b[49m\u001b[43mtorch\u001b[49m\u001b[38;5;241;43m.\u001b[39;49m\u001b[43mload\u001b[49m\u001b[43m(\u001b[49m\u001b[38;5;124;43mf\u001b[39;49m\u001b[38;5;124;43m\"\u001b[39;49m\u001b[38;5;132;43;01m{\u001b[39;49;00m\u001b[43margs\u001b[49m\u001b[38;5;241;43m.\u001b[39;49m\u001b[43mmodel_path\u001b[49m\u001b[38;5;132;43;01m}\u001b[39;49;00m\u001b[38;5;124;43m/model_\u001b[39;49m\u001b[38;5;132;43;01m{\u001b[39;49;00m\u001b[43margs\u001b[49m\u001b[38;5;241;43m.\u001b[39;49m\u001b[43mmodel_name\u001b[49m\u001b[38;5;132;43;01m}\u001b[39;49;00m\u001b[38;5;124;43m_seed_\u001b[39;49m\u001b[38;5;132;43;01m{\u001b[39;49;00m\u001b[43margs\u001b[49m\u001b[38;5;241;43m.\u001b[39;49m\u001b[43mseed\u001b[49m\u001b[38;5;132;43;01m}\u001b[39;49;00m\u001b[38;5;124;43m__epoch_\u001b[39;49m\u001b[38;5;132;43;01m{\u001b[39;49;00m\u001b[43margs\u001b[49m\u001b[38;5;241;43m.\u001b[39;49m\u001b[43mepoch\u001b[49m\u001b[38;5;132;43;01m}\u001b[39;49;00m\u001b[38;5;124;43m_batchsize_\u001b[39;49m\u001b[38;5;132;43;01m{\u001b[39;49;00m\u001b[43margs\u001b[49m\u001b[38;5;241;43m.\u001b[39;49m\u001b[43mbatch_size\u001b[49m\u001b[38;5;132;43;01m}\u001b[39;49;00m\u001b[38;5;124;43m_lr_\u001b[39;49m\u001b[38;5;132;43;01m{\u001b[39;49;00m\u001b[43margs\u001b[49m\u001b[38;5;241;43m.\u001b[39;49m\u001b[43mlr\u001b[49m\u001b[38;5;132;43;01m}\u001b[39;49;00m\u001b[38;5;124;43m.pth\u001b[39;49m\u001b[38;5;124;43m\"\u001b[39;49m\u001b[43m)\u001b[49m\u001b[43m)\u001b[49m\n\u001b[1;32m      8\u001b[0m mse,rmse,mae,mape,p_total,y_total \u001b[38;5;241m=\u001b[39m test(model,train_dataloader,se,pe,z_adj,criterion,args,\u001b[38;5;28;01mTrue\u001b[39;00m)\n\u001b[1;32m      9\u001b[0m \u001b[38;5;28mprint\u001b[39m(mse)\n",
      "File \u001b[0;32m~/miniconda3/envs/dissertation/lib/python3.11/site-packages/torch/nn/modules/module.py:2041\u001b[0m, in \u001b[0;36mModule.load_state_dict\u001b[0;34m(self, state_dict, strict)\u001b[0m\n\u001b[1;32m   2036\u001b[0m         error_msgs\u001b[38;5;241m.\u001b[39minsert(\n\u001b[1;32m   2037\u001b[0m             \u001b[38;5;241m0\u001b[39m, \u001b[38;5;124m'\u001b[39m\u001b[38;5;124mMissing key(s) in state_dict: \u001b[39m\u001b[38;5;132;01m{}\u001b[39;00m\u001b[38;5;124m. \u001b[39m\u001b[38;5;124m'\u001b[39m\u001b[38;5;241m.\u001b[39mformat(\n\u001b[1;32m   2038\u001b[0m                 \u001b[38;5;124m'\u001b[39m\u001b[38;5;124m, \u001b[39m\u001b[38;5;124m'\u001b[39m\u001b[38;5;241m.\u001b[39mjoin(\u001b[38;5;124m'\u001b[39m\u001b[38;5;124m\"\u001b[39m\u001b[38;5;132;01m{}\u001b[39;00m\u001b[38;5;124m\"\u001b[39m\u001b[38;5;124m'\u001b[39m\u001b[38;5;241m.\u001b[39mformat(k) \u001b[38;5;28;01mfor\u001b[39;00m k \u001b[38;5;129;01min\u001b[39;00m missing_keys)))\n\u001b[1;32m   2040\u001b[0m \u001b[38;5;28;01mif\u001b[39;00m \u001b[38;5;28mlen\u001b[39m(error_msgs) \u001b[38;5;241m>\u001b[39m \u001b[38;5;241m0\u001b[39m:\n\u001b[0;32m-> 2041\u001b[0m     \u001b[38;5;28;01mraise\u001b[39;00m \u001b[38;5;167;01mRuntimeError\u001b[39;00m(\u001b[38;5;124m'\u001b[39m\u001b[38;5;124mError(s) in loading state_dict for \u001b[39m\u001b[38;5;132;01m{}\u001b[39;00m\u001b[38;5;124m:\u001b[39m\u001b[38;5;130;01m\\n\u001b[39;00m\u001b[38;5;130;01m\\t\u001b[39;00m\u001b[38;5;132;01m{}\u001b[39;00m\u001b[38;5;124m'\u001b[39m\u001b[38;5;241m.\u001b[39mformat(\n\u001b[1;32m   2042\u001b[0m                        \u001b[38;5;28mself\u001b[39m\u001b[38;5;241m.\u001b[39m\u001b[38;5;18m__class__\u001b[39m\u001b[38;5;241m.\u001b[39m\u001b[38;5;18m__name__\u001b[39m, \u001b[38;5;124m\"\u001b[39m\u001b[38;5;130;01m\\n\u001b[39;00m\u001b[38;5;130;01m\\t\u001b[39;00m\u001b[38;5;124m\"\u001b[39m\u001b[38;5;241m.\u001b[39mjoin(error_msgs)))\n\u001b[1;32m   2043\u001b[0m \u001b[38;5;28;01mreturn\u001b[39;00m _IncompatibleKeys(missing_keys, unexpected_keys)\n",
      "\u001b[0;31mRuntimeError\u001b[0m: Error(s) in loading state_dict for META:\n\tMissing key(s) in state_dict: \"dense.weight\", \"dense.bias\", \"fc.weight\", \"fc.bias\", \"encoder.0.self_attn.in_proj_weight\", \"encoder.0.self_attn.in_proj_bias\", \"encoder.0.self_attn.out_proj.weight\", \"encoder.0.self_attn.out_proj.bias\", \"encoder.0.linear1.weight\", \"encoder.0.linear1.bias\", \"encoder.0.linear2.weight\", \"encoder.0.linear2.bias\", \"encoder.0.norm1.weight\", \"encoder.0.norm1.bias\", \"encoder.0.norm2.weight\", \"encoder.0.norm2.bias\", \"encoder.1.self_attn.in_proj_weight\", \"encoder.1.self_attn.in_proj_bias\", \"encoder.1.self_attn.out_proj.weight\", \"encoder.1.self_attn.out_proj.bias\", \"encoder.1.linear1.weight\", \"encoder.1.linear1.bias\", \"encoder.1.linear2.weight\", \"encoder.1.linear2.bias\", \"encoder.1.norm1.weight\", \"encoder.1.norm1.bias\", \"encoder.1.norm2.weight\", \"encoder.1.norm2.bias\", \"encoder.2.self_attn.in_proj_weight\", \"encoder.2.self_attn.in_proj_bias\", \"encoder.2.self_attn.out_proj.weight\", \"encoder.2.self_attn.out_proj.bias\", \"encoder.2.linear1.weight\", \"encoder.2.linear1.bias\", \"encoder.2.linear2.weight\", \"encoder.2.linear2.bias\", \"encoder.2.norm1.weight\", \"encoder.2.norm1.bias\", \"encoder.2.norm2.weight\", \"encoder.2.norm2.bias\", \"encoder.3.self_attn.in_proj_weight\", \"encoder.3.self_attn.in_proj_bias\", \"encoder.3.self_attn.out_proj.weight\", \"encoder.3.self_attn.out_proj.bias\", \"encoder.3.linear1.weight\", \"encoder.3.linear1.bias\", \"encoder.3.linear2.weight\", \"encoder.3.linear2.bias\", \"encoder.3.norm1.weight\", \"encoder.3.norm1.bias\", \"encoder.3.norm2.weight\", \"encoder.3.norm2.bias\", \"positional_encoding.positional_encoding\". \n\tUnexpected key(s) in state_dict: \"fc_out.weight\", \"fc_out.bias\", \"fc_x.weight\", \"fc_x.bias\", \"sta_encoder.0.fc_q.weight\", \"sta_encoder.0.fc_q.bias\", \"sta_encoder.0.fc_k.weight\", \"sta_encoder.0.fc_k.bias\", \"sta_encoder.0.fc_v.weight\", \"sta_encoder.0.fc_v.bias\", \"sta_encoder.0.dense.weight\", \"sta_encoder.0.dense.bias\", \"sta_encoder.0.LayerNorm.weight\", \"sta_encoder.0.LayerNorm.bias\", \"sta_encoder.1.fc_q.weight\", \"sta_encoder.1.fc_q.bias\", \"sta_encoder.1.fc_k.weight\", \"sta_encoder.1.fc_k.bias\", \"sta_encoder.1.fc_v.weight\", \"sta_encoder.1.fc_v.bias\", \"sta_encoder.1.dense.weight\", \"sta_encoder.1.dense.bias\", \"sta_encoder.1.LayerNorm.weight\", \"sta_encoder.1.LayerNorm.bias\", \"sta_encoder.2.fc_q.weight\", \"sta_encoder.2.fc_q.bias\", \"sta_encoder.2.fc_k.weight\", \"sta_encoder.2.fc_k.bias\", \"sta_encoder.2.fc_v.weight\", \"sta_encoder.2.fc_v.bias\", \"sta_encoder.2.dense.weight\", \"sta_encoder.2.dense.bias\", \"sta_encoder.2.LayerNorm.weight\", \"sta_encoder.2.LayerNorm.bias\", \"sta_encoder.3.fc_q.weight\", \"sta_encoder.3.fc_q.bias\", \"sta_encoder.3.fc_k.weight\", \"sta_encoder.3.fc_k.bias\", \"sta_encoder.3.fc_v.weight\", \"sta_encoder.3.fc_v.bias\", \"sta_encoder.3.dense.weight\", \"sta_encoder.3.dense.bias\", \"sta_encoder.3.LayerNorm.weight\", \"sta_encoder.3.LayerNorm.bias\", \"sta_decoder.0.fc_q.weight\", \"sta_decoder.0.fc_q.bias\", \"sta_decoder.0.fc_k.weight\", \"sta_decoder.0.fc_k.bias\", \"sta_decoder.0.fc_v.weight\", \"sta_decoder.0.fc_v.bias\", \"sta_decoder.0.dense.weight\", \"sta_decoder.0.dense.bias\", \"sta_decoder.0.LayerNorm.weight\", \"sta_decoder.0.LayerNorm.bias\", \"sta_decoder.1.fc_q.weight\", \"sta_decoder.1.fc_q.bias\", \"sta_decoder.1.fc_k.weight\", \"sta_decoder.1.fc_k.bias\", \"sta_decoder.1.fc_v.weight\", \"sta_decoder.1.fc_v.bias\", \"sta_decoder.1.dense.weight\", \"sta_decoder.1.dense.bias\", \"sta_decoder.1.LayerNorm.weight\", \"sta_decoder.1.LayerNorm.bias\", \"sta_decoder.2.fc_q.weight\", \"sta_decoder.2.fc_q.bias\", \"sta_decoder.2.fc_k.weight\", \"sta_decoder.2.fc_k.bias\", \"sta_decoder.2.fc_v.weight\", \"sta_decoder.2.fc_v.bias\", \"sta_decoder.2.dense.weight\", \"sta_decoder.2.dense.bias\", \"sta_decoder.2.LayerNorm.weight\", \"sta_decoder.2.LayerNorm.bias\", \"sta_decoder.3.fc_q.weight\", \"sta_decoder.3.fc_q.bias\", \"sta_decoder.3.fc_k.weight\", \"sta_decoder.3.fc_k.bias\", \"sta_decoder.3.fc_v.weight\", \"sta_decoder.3.fc_v.bias\", \"sta_decoder.3.dense.weight\", \"sta_decoder.3.dense.bias\", \"sta_decoder.3.LayerNorm.weight\", \"sta_decoder.3.LayerNorm.bias\", \"out.fc.weight\", \"out.fc.bias\", \"out.out.weight\", \"out.out.bias\". "
     ]
    }
   ],
   "source": [
    "mse_total = rmse_total = mae_total = mape_total = 0\n",
    "for seed in seeds:\n",
    "    args.seed = seed\n",
    "    set_seed(args.seed)\n",
    "    criterion = ODLoss\n",
    "    print(f\"{args.model_path}/model_{args.model_name}_seed_{args.seed}__epoch_{args.epoch}_batchsize_{args.batch_size}_lr_{args.lr}.pth\")\n",
    "    model.load_state_dict(torch.load(f\"{args.model_path}/model_{args.model_name}_seed_{args.seed}__epoch_{args.epoch}_batchsize_{args.batch_size}_lr_{args.lr}.pth\"))\n",
    "    mse,rmse,mae,mape,p_total,y_total = test(model,train_dataloader,se,pe,z_adj,criterion,args,True)\n",
    "    print(mse)\n",
    "    mse_total += mse\n",
    "    rmse_total += rmse\n",
    "    mae_total += mae\n",
    "    mape_total += mape\n",
    "mse = mse_total/len(seeds)\n",
    "rmse = rmse_total/len(seeds)\n",
    "mae = mae_total/len(seeds)\n",
    "mape = mape_total/len(seeds)"
   ]
  },
  {
   "cell_type": "code",
   "execution_count": null,
   "metadata": {},
   "outputs": [],
   "source": [
    "mse"
   ]
  },
  {
   "cell_type": "code",
   "execution_count": null,
   "metadata": {},
   "outputs": [],
   "source": [
    "rmse"
   ]
  },
  {
   "cell_type": "code",
   "execution_count": null,
   "metadata": {},
   "outputs": [],
   "source": [
    "mae"
   ]
  },
  {
   "cell_type": "code",
   "execution_count": null,
   "metadata": {},
   "outputs": [],
   "source": [
    "mape"
   ]
  },
  {
   "cell_type": "code",
   "execution_count": null,
   "metadata": {},
   "outputs": [],
   "source": [
    "p_total[0][0][1]"
   ]
  },
  {
   "cell_type": "code",
   "execution_count": null,
   "metadata": {},
   "outputs": [],
   "source": [
    "y_total[0][0][1]"
   ]
  },
  {
   "cell_type": "code",
   "execution_count": null,
   "metadata": {},
   "outputs": [],
   "source": [
    "p_total.shape"
   ]
  },
  {
   "cell_type": "code",
   "execution_count": null,
   "metadata": {},
   "outputs": [],
   "source": [
    "p_copy = p_total.reshape(290*24,66,66)\n",
    "p_copy = p_copy.permute(1,2,0)\n",
    "p_1 = p_copy[18][14]"
   ]
  },
  {
   "cell_type": "code",
   "execution_count": null,
   "metadata": {},
   "outputs": [],
   "source": [
    "y_copy = y_total.reshape(290*24,66,66)\n",
    "y_copy = y_copy.permute(1,2,0)\n",
    "y_1 = y_copy[18][14]"
   ]
  },
  {
   "cell_type": "code",
   "execution_count": null,
   "metadata": {},
   "outputs": [],
   "source": [
    "# -*- coding: UTF-8 -*-\n",
    "import numpy as np\n",
    "import matplotlib as mpl\n",
    "import matplotlib.pyplot as plt\n",
    "\n",
    "plt.figure(figsize=(80, 5))\n",
    "plt.plot(range(0,100), p_1[:100].cpu(), color='green', label='pred')\n",
    "plt.plot(range(0,100), y_1[:100].cpu(), color='red', label='label')\n",
    "plt.legend()\n",
    "\n",
    "plt.xlabel('time')\n",
    "plt.ylabel('value')\n",
    "plt.show()"
   ]
  },
  {
   "cell_type": "code",
   "execution_count": null,
   "metadata": {},
   "outputs": [],
   "source": [
    "p = p_total.reshape(290*24,66,66)\n",
    "# p  = p_total.permute(1,0,2,3)\n",
    "p_time = torch.mean(p, dim=1)\n",
    "# p_time = torch.mean(p_time, dim=1)\n",
    "p_time = torch.mean(p_time, dim=1)\n",
    "p_time = p_time[:6888]\n",
    "p_time = p_time.reshape(41,7,24)\n",
    "p_time = p_time[:,[3,4,5,6,0,1,2],:]\n",
    "p_time = torch.mean(p_time, dim=0)\n",
    "# p_time = p_time.reshape(168)"
   ]
  },
  {
   "cell_type": "code",
   "execution_count": null,
   "metadata": {},
   "outputs": [],
   "source": [
    "# p_time = p_time[:,:]"
   ]
  },
  {
   "cell_type": "code",
   "execution_count": null,
   "metadata": {},
   "outputs": [],
   "source": [
    "# y = y_total.permute(1,0,2,3)\n",
    "y = y_total.reshape(290*24,66,66)\n",
    "y_time =  torch.mean(y, dim=1)\n",
    "# y_time =  torch.mean(y_time, dim=1)\n",
    "y_time =  torch.mean(y_time, dim=1)\n",
    "y_time = y_time[:6888]\n",
    "y_time = y_time.reshape(41,7,24)\n",
    "y_time = y_time[:,[3,4,5,6,0,1,2],:]\n",
    "y_time = torch.mean(y_time, dim=0)\n",
    "# y_time = y_time.reshape(168)"
   ]
  },
  {
   "cell_type": "code",
   "execution_count": null,
   "metadata": {},
   "outputs": [],
   "source": [
    "# -*- coding: UTF-8 -*-\n",
    "import numpy as np\n",
    "import matplotlib as mpl\n",
    "import matplotlib.pyplot as plt\n",
    "\n",
    "plt.figure(figsize=(10, 5))\n",
    "plt.plot(range(6,30), y_time[1].cpu(), label='Mon_label')\n",
    "plt.plot(range(6,30), p_time[1].cpu(), label='Mon_pred')\n",
    "plt.legend()\n",
    "\n",
    "plt.xlabel('time')\n",
    "plt.ylabel('value')\n",
    "plt.show()"
   ]
  },
  {
   "cell_type": "code",
   "execution_count": null,
   "metadata": {},
   "outputs": [],
   "source": [
    "# -*- coding: UTF-8 -*-\n",
    "import numpy as np\n",
    "import matplotlib as mpl\n",
    "import matplotlib.pyplot as plt\n",
    "\n",
    "plt.figure(figsize=(10, 5))\n",
    "plt.plot(range(6,30), y_time[2].cpu(), label='Tue_label')\n",
    "plt.plot(range(6,30), p_time[2].cpu(), label='Tue_pred')\n",
    "plt.legend()\n",
    "\n",
    "plt.xlabel('time')\n",
    "plt.ylabel('value')\n",
    "plt.show()"
   ]
  },
  {
   "cell_type": "code",
   "execution_count": null,
   "metadata": {},
   "outputs": [],
   "source": [
    "# -*- coding: UTF-8 -*-\n",
    "import numpy as np\n",
    "import matplotlib as mpl\n",
    "import matplotlib.pyplot as plt\n",
    "\n",
    "plt.figure(figsize=(10, 5))\n",
    "plt.plot(range(6,30), y_time[3].cpu(), label='Wed_label')\n",
    "plt.plot(range(6,30), p_time[3].cpu(), label='Wed_pred')\n",
    "plt.legend()\n",
    "\n",
    "plt.xlabel('time')\n",
    "plt.ylabel('value')\n",
    "plt.show()"
   ]
  },
  {
   "cell_type": "code",
   "execution_count": null,
   "metadata": {},
   "outputs": [],
   "source": [
    "# -*- coding: UTF-8 -*-\n",
    "import numpy as np\n",
    "import matplotlib as mpl\n",
    "import matplotlib.pyplot as plt\n",
    "\n",
    "plt.figure(figsize=(10, 5))\n",
    "plt.plot(range(6,30), y_time[4].cpu(), label='Thu_label')\n",
    "plt.plot(range(6,30), p_time[4].cpu(), label='Thu_pred')\n",
    "plt.legend()\n",
    "\n",
    "plt.xlabel('time')\n",
    "plt.ylabel('value')\n",
    "plt.show()"
   ]
  },
  {
   "cell_type": "code",
   "execution_count": null,
   "metadata": {},
   "outputs": [],
   "source": [
    "# -*- coding: UTF-8 -*-\n",
    "import numpy as np\n",
    "import matplotlib as mpl\n",
    "import matplotlib.pyplot as plt\n",
    "\n",
    "plt.figure(figsize=(10, 5))\n",
    "plt.plot(range(6,30), y_time[5].cpu(), label='Fri_label')\n",
    "plt.plot(range(6,30), p_time[5].cpu(), label='Fri_pred')\n",
    "plt.legend()\n",
    "\n",
    "plt.xlabel('time')\n",
    "plt.ylabel('value')\n",
    "plt.show()"
   ]
  },
  {
   "cell_type": "code",
   "execution_count": null,
   "metadata": {},
   "outputs": [],
   "source": [
    "# -*- coding: UTF-8 -*-\n",
    "import numpy as np\n",
    "import matplotlib as mpl\n",
    "import matplotlib.pyplot as plt\n",
    "\n",
    "plt.figure(figsize=(10, 5))\n",
    "plt.plot(range(6,30), y_time[6].cpu(), label='Sat_label')\n",
    "plt.plot(range(6,30), p_time[6].cpu(), label='Sat_pred')\n",
    "plt.legend()\n",
    "\n",
    "plt.xlabel('time')\n",
    "plt.ylabel('value')\n",
    "plt.show()"
   ]
  },
  {
   "cell_type": "code",
   "execution_count": null,
   "metadata": {},
   "outputs": [],
   "source": [
    "# -*- coding: UTF-8 -*-\n",
    "import numpy as np\n",
    "import matplotlib as mpl\n",
    "import matplotlib.pyplot as plt\n",
    "\n",
    "plt.figure(figsize=(10, 5))\n",
    "plt.plot(range(6,30), y_time[0].cpu(), label='Sun_label')\n",
    "plt.plot(range(6,30), p_time[0].cpu(), label='Sun_pred')\n",
    "plt.legend()\n",
    "\n",
    "plt.xlabel('time')\n",
    "plt.ylabel('value')\n",
    "plt.show()"
   ]
  },
  {
   "cell_type": "code",
   "execution_count": null,
   "metadata": {},
   "outputs": [],
   "source": [
    "y_weekday = y_total[:35]\n",
    "y_weekday = y_weekday.reshape(5,7,24,66,66)\n",
    "y_weekday = y_weekday[:,[3,4,5,6,0,1,2],:,:,:]\n",
    "y_weekend = y_weekday[:,4:,:,:,:]\n",
    "y_weekday = y_weekday[:,:4,:,:,:]\n",
    "p_weekday = p_total[:35]\n",
    "p_weekday = p_weekday.reshape(5,7,24,66,66)\n",
    "p_weekday = p_weekday[:,[3,4,5,6,0,1,2],:,:,:]\n",
    "p_weekend = p_weekday[:,4:,:,:,:]\n",
    "p_weekday = p_weekday[:,:4,:,:,:]\n"
   ]
  },
  {
   "cell_type": "code",
   "execution_count": null,
   "metadata": {},
   "outputs": [],
   "source": [
    "weekday_mse = masked_mse(y_weekday,p_weekday)\n",
    "weekday_mse"
   ]
  },
  {
   "cell_type": "code",
   "execution_count": null,
   "metadata": {},
   "outputs": [],
   "source": [
    "weekend_mse = masked_mse(y_weekend,p_weekend)\n",
    "weekend_mse"
   ]
  },
  {
   "cell_type": "code",
   "execution_count": null,
   "metadata": {},
   "outputs": [],
   "source": []
  }
 ],
 "metadata": {
  "kernelspec": {
   "display_name": "dissertation",
   "language": "python",
   "name": "dissertation"
  },
  "language_info": {
   "codemirror_mode": {
    "name": "ipython",
    "version": 3
   },
   "file_extension": ".py",
   "mimetype": "text/x-python",
   "name": "python",
   "nbconvert_exporter": "python",
   "pygments_lexer": "ipython3",
   "version": "3.11.5"
  }
 },
 "nbformat": 4,
 "nbformat_minor": 4
}
