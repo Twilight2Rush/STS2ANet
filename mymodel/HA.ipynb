{
 "cells": [
  {
   "cell_type": "code",
   "execution_count": 1,
   "id": "9690fa0b-ef8d-44cc-9134-97874b232e86",
   "metadata": {},
   "outputs": [],
   "source": [
    "import torch\n",
    "import torch.optim as optim\n",
    "from torch.optim.lr_scheduler import StepLR\n",
    "import torch.nn as nn\n",
    "import numpy as np\n",
    "import pandas as pd\n",
    "from torch.utils.data import DataLoader\n",
    "from sklearn.model_selection import train_test_split"
   ]
  },
  {
   "cell_type": "code",
   "execution_count": 2,
   "id": "af12e5ce-a5b1-4517-bbf5-efc97713afdb",
   "metadata": {},
   "outputs": [],
   "source": [
    "from config import get_configs\n",
    "from utils import load_data,set_seed, metric,masked_mse\n",
    "from dataset import ODDataset\n",
    "# from models import MYMODEL, MYMODEL2\n",
    "from lib import train,test\n",
    "from baseline import HA"
   ]
  },
  {
   "cell_type": "code",
   "execution_count": 3,
   "id": "6057f9be-23df-494b-b668-72773ed76e5c",
   "metadata": {},
   "outputs": [],
   "source": [
    "args = get_configs()"
   ]
  },
  {
   "cell_type": "code",
   "execution_count": 4,
   "id": "cc6b039a-6873-4e03-8d07-97b6115d8122",
   "metadata": {},
   "outputs": [],
   "source": [
    "x, te, t_label, adj, y, c, z_adj = load_data(args)\n",
    "x_train, x_val, adj_train, adj_val, te_train, te_val, y_train, y_val = train_test_split(x, adj, te, y, test_size=args.test_size, shuffle=False)\n",
    "x_val, x_test, adj_val, adj_test, te_val, te_test, y_val, y_test = train_test_split(x_val, adj_val,  te_val, y_val, test_size=0.5, shuffle=False)\n",
    "p = HA(x_test)\n",
    "mse,rmse,mae,mape = metric(p,y_test)"
   ]
  },
  {
   "cell_type": "code",
   "execution_count": 5,
   "id": "9e80079c-1bbd-4070-8b26-2276463f14c7",
   "metadata": {},
   "outputs": [
    {
     "data": {
      "text/plain": [
       "3.0607757568359375"
      ]
     },
     "execution_count": 5,
     "metadata": {},
     "output_type": "execute_result"
    }
   ],
   "source": [
    "mse"
   ]
  },
  {
   "cell_type": "code",
   "execution_count": 6,
   "id": "f64bb3c4-fca5-4845-ab68-fa51aa165d42",
   "metadata": {},
   "outputs": [
    {
     "data": {
      "text/plain": [
       "1.7495073080062866"
      ]
     },
     "execution_count": 6,
     "metadata": {},
     "output_type": "execute_result"
    }
   ],
   "source": [
    "rmse"
   ]
  },
  {
   "cell_type": "code",
   "execution_count": 7,
   "id": "d4225c08-4c18-4456-96ed-7f291d73fe8a",
   "metadata": {},
   "outputs": [
    {
     "data": {
      "text/plain": [
       "0.753180980682373"
      ]
     },
     "execution_count": 7,
     "metadata": {},
     "output_type": "execute_result"
    }
   ],
   "source": [
    "mae"
   ]
  },
  {
   "cell_type": "code",
   "execution_count": 8,
   "id": "20b3feec-f137-4926-a08f-b2fdf200d501",
   "metadata": {},
   "outputs": [
    {
     "data": {
      "text/plain": [
       "2.716628074645996"
      ]
     },
     "execution_count": 8,
     "metadata": {},
     "output_type": "execute_result"
    }
   ],
   "source": [
    "mape"
   ]
  },
  {
   "cell_type": "code",
   "execution_count": 9,
   "id": "5ccac266-2c71-48aa-9969-7d0309033cbf",
   "metadata": {},
   "outputs": [
    {
     "data": {
      "text/plain": [
       "torch.Size([1088, 66, 66])"
      ]
     },
     "execution_count": 9,
     "metadata": {},
     "output_type": "execute_result"
    }
   ],
   "source": [
    "x = x[:,:,:,:66]\n",
    "x = x.sum(dim=1)\n",
    "x.shape"
   ]
  },
  {
   "cell_type": "code",
   "execution_count": 10,
   "id": "0f5a4cf1-317f-4f39-9b36-d3668d0c17ad",
   "metadata": {},
   "outputs": [
    {
     "data": {
      "text/plain": [
       "tensor(3285816)"
      ]
     },
     "execution_count": 10,
     "metadata": {},
     "output_type": "execute_result"
    }
   ],
   "source": [
    "torch.count_nonzero(x)"
   ]
  },
  {
   "cell_type": "code",
   "execution_count": 11,
   "id": "d45a0bc2-9e91-483b-b6f9-18ac087a288b",
   "metadata": {},
   "outputs": [
    {
     "data": {
      "text/plain": [
       "0.738727748307012"
      ]
     },
     "execution_count": 11,
     "metadata": {},
     "output_type": "execute_result"
    }
   ],
   "source": [
    "1168097/(363*66*66)"
   ]
  },
  {
   "cell_type": "code",
   "execution_count": 12,
   "id": "df3676e1-a830-46eb-99f9-b2d60986147a",
   "metadata": {},
   "outputs": [
    {
     "data": {
      "text/plain": [
       "torch.Size([128, 24, 66, 66])"
      ]
     },
     "execution_count": 12,
     "metadata": {},
     "output_type": "execute_result"
    }
   ],
   "source": [
    "p.shape"
   ]
  },
  {
   "cell_type": "code",
   "execution_count": 13,
   "id": "f8c4c219-8b80-4be3-acbe-e80a3ddd691c",
   "metadata": {},
   "outputs": [
    {
     "ename": "RuntimeError",
     "evalue": "shape '[888, 66, 66]' is invalid for input of size 13381632",
     "output_type": "error",
     "traceback": [
      "\u001b[0;31m---------------------------------------------------------------------------\u001b[0m",
      "\u001b[0;31mRuntimeError\u001b[0m                              Traceback (most recent call last)",
      "Cell \u001b[0;32mIn[13], line 1\u001b[0m\n\u001b[0;32m----> 1\u001b[0m p_copy \u001b[38;5;241m=\u001b[39m \u001b[43mp\u001b[49m\u001b[38;5;241;43m.\u001b[39;49m\u001b[43mreshape\u001b[49m\u001b[43m(\u001b[49m\u001b[38;5;241;43m37\u001b[39;49m\u001b[38;5;241;43m*\u001b[39;49m\u001b[38;5;241;43m24\u001b[39;49m\u001b[43m,\u001b[49m\u001b[38;5;241;43m66\u001b[39;49m\u001b[43m,\u001b[49m\u001b[38;5;241;43m66\u001b[39;49m\u001b[43m)\u001b[49m\n\u001b[1;32m      2\u001b[0m p_copy \u001b[38;5;241m=\u001b[39m p_copy\u001b[38;5;241m.\u001b[39mpermute(\u001b[38;5;241m1\u001b[39m,\u001b[38;5;241m2\u001b[39m,\u001b[38;5;241m0\u001b[39m)\n\u001b[1;32m      3\u001b[0m p_1 \u001b[38;5;241m=\u001b[39m p_copy[\u001b[38;5;241m18\u001b[39m][\u001b[38;5;241m14\u001b[39m]\n",
      "\u001b[0;31mRuntimeError\u001b[0m: shape '[888, 66, 66]' is invalid for input of size 13381632"
     ]
    }
   ],
   "source": [
    "p_copy = p.reshape(37*24,66,66)\n",
    "p_copy = p_copy.permute(1,2,0)\n",
    "p_1 = p_copy[18][14]\n",
    "p_1"
   ]
  },
  {
   "cell_type": "code",
   "execution_count": null,
   "id": "307bd606-141f-4c51-b6ca-29eece986ddb",
   "metadata": {},
   "outputs": [],
   "source": [
    "y_copy = y_test.reshape(37*24,66,66)\n",
    "y_copy = y_copy.permute(1,2,0)\n",
    "y_1 = y_copy[18][14]\n",
    "y_1"
   ]
  },
  {
   "cell_type": "code",
   "execution_count": null,
   "id": "c1bae742-35b3-45f2-b605-a0a3c0629c9d",
   "metadata": {},
   "outputs": [],
   "source": [
    "import numpy as np\n",
    "import matplotlib as mpl\n",
    "import matplotlib.pyplot as plt\n",
    "\n",
    "plt.figure(figsize=(100, 5))\n",
    "plt.plot(range(0,24*37), p_1.cpu(), color='green', label='pred')\n",
    "plt.plot(range(0,24*37), y_1.cpu(), color='red', label='label')\n",
    "plt.legend()\n",
    "\n",
    "plt.xlabel('time')\n",
    "plt.ylabel('value')\n",
    "plt.show()"
   ]
  },
  {
   "cell_type": "code",
   "execution_count": null,
   "id": "a817ca68-420a-4eb5-8699-ea6817b15298",
   "metadata": {},
   "outputs": [],
   "source": [
    "mse"
   ]
  },
  {
   "cell_type": "code",
   "execution_count": null,
   "id": "6cb95764-0e27-42d3-9500-c8f48e4a41bb",
   "metadata": {},
   "outputs": [],
   "source": [
    "rmse"
   ]
  },
  {
   "cell_type": "code",
   "execution_count": null,
   "id": "54e89100-e780-4cd8-a66b-f789301010b6",
   "metadata": {},
   "outputs": [],
   "source": [
    "mae"
   ]
  },
  {
   "cell_type": "code",
   "execution_count": null,
   "id": "b245b8b0-bdd5-40b0-8694-725ed9eb5917",
   "metadata": {},
   "outputs": [],
   "source": [
    "mape"
   ]
  },
  {
   "cell_type": "code",
   "execution_count": null,
   "id": "a48bbe19-7351-42da-a3e5-fe5517dbb7f9",
   "metadata": {},
   "outputs": [],
   "source": [
    "p = p.reshape(37*24,66,66)\n",
    "# p  = p_total.permute(1,0,2,3)\n",
    "p_time = torch.mean(p, dim=1)\n",
    "# p_time = torch.mean(p_time, dim=1)\n",
    "p_time = torch.mean(p_time, dim=1)"
   ]
  },
  {
   "cell_type": "code",
   "execution_count": null,
   "id": "421d42ad-28bf-4c00-a4fa-1224cdf858e8",
   "metadata": {},
   "outputs": [],
   "source": [
    "# y = y_total.permute(1,0,2,3)\n",
    "y = y_test.reshape(37*24,66,66)\n",
    "y_time =  torch.mean(y, dim=1)\n",
    "# y_time =  torch.mean(y_time, dim=1)\n",
    "y_time =  torch.mean(y_time, dim=1)"
   ]
  },
  {
   "cell_type": "code",
   "execution_count": null,
   "id": "c7689e8f-dd8d-48c0-8c2f-0e484a405ecc",
   "metadata": {},
   "outputs": [],
   "source": [
    "import numpy as np\n",
    "import matplotlib as mpl\n",
    "import matplotlib.pyplot as plt\n",
    "\n",
    "plt.figure(figsize=(100, 5))\n",
    "plt.plot(range(6*37,30*37), p_time.cpu(), color='green', label='pred')\n",
    "plt.plot(range(6*37,30*37), y_time.cpu(), color='red', label='label')\n",
    "plt.legend()\n",
    "\n",
    "plt.xlabel('time')\n",
    "plt.ylabel('value')\n",
    "plt.show()"
   ]
  },
  {
   "cell_type": "code",
   "execution_count": null,
   "id": "b28ea904-e0be-4e49-b39c-0fa12e4bdeef",
   "metadata": {},
   "outputs": [],
   "source": [
    "mse = masked_mse(p_time,y_time)\n",
    "mse"
   ]
  },
  {
   "cell_type": "code",
   "execution_count": null,
   "id": "4f3d2bf9-b6b3-4c97-a700-6d2d524c6064",
   "metadata": {},
   "outputs": [],
   "source": [
    "p  = p.permute(2,3,0,1)\n",
    "p = p.reshape(p.size(0)*p.size(1),p.size(2),p.size(3))\n",
    "p_node = torch.mean(p, dim=1)\n",
    "p_node = torch.mean(p_node, dim=1)"
   ]
  },
  {
   "cell_type": "code",
   "execution_count": null,
   "id": "a483d2bb-728a-448f-8207-a98cb36500e8",
   "metadata": {},
   "outputs": [],
   "source": [
    "y  = y.permute(2,3,0,1)\n",
    "y = y.reshape(y.size(0)*y.size(1),y.size(2),y.size(3))\n",
    "y_node = torch.mean(y, dim=1)\n",
    "y_node = torch.mean(y_node, dim=1)"
   ]
  },
  {
   "cell_type": "code",
   "execution_count": null,
   "id": "3df75d05-5889-4754-b103-6b7bff02613c",
   "metadata": {},
   "outputs": [],
   "source": [
    "plt.figure(figsize=(100, 5))\n",
    "plt.plot(range(66*66), p_node.cpu(), color='green', label='pred')\n",
    "plt.plot(range(66*66), y_node.cpu(), color='red', label='label')\n",
    "plt.legend()\n",
    "\n",
    "plt.xlabel('od pair')\n",
    "plt.ylabel('value')\n",
    "plt.show()"
   ]
  },
  {
   "cell_type": "code",
   "execution_count": null,
   "id": "0d5745f1-b8b1-4932-b1f2-5c246282a8f7",
   "metadata": {},
   "outputs": [],
   "source": [
    "mse_n = masked_mse(p_node,y_node)\n",
    "mse_n"
   ]
  },
  {
   "cell_type": "code",
   "execution_count": null,
   "id": "1160bd9c-aca8-4c18-8415-2ea900db19d3",
   "metadata": {},
   "outputs": [],
   "source": []
  }
 ],
 "metadata": {
  "kernelspec": {
   "display_name": "dissertation",
   "language": "python",
   "name": "dissertation"
  },
  "language_info": {
   "codemirror_mode": {
    "name": "ipython",
    "version": 3
   },
   "file_extension": ".py",
   "mimetype": "text/x-python",
   "name": "python",
   "nbconvert_exporter": "python",
   "pygments_lexer": "ipython3",
   "version": "3.11.5"
  }
 },
 "nbformat": 4,
 "nbformat_minor": 5
}
