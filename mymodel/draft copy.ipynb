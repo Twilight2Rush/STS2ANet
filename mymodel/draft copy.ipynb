{
 "cells": [
  {
   "cell_type": "code",
   "execution_count": 1,
   "metadata": {},
   "outputs": [],
   "source": [
    "import torch\n",
    "import torch.optim as optim\n",
    "from torch.optim.lr_scheduler import StepLR\n",
    "import torch.nn as nn\n",
    "import numpy as np\n",
    "import pandas as pd\n",
    "from torch.utils.data import DataLoader\n",
    "from sklearn.model_selection import train_test_split"
   ]
  },
  {
   "cell_type": "code",
   "execution_count": 2,
   "metadata": {},
   "outputs": [],
   "source": [
    "from config import get_configs\n",
    "from utils import load_data,load_data_week,metric,masked_mse\n",
    "from dataset import ODDataset,ODWEEKDataset\n",
    "from models import MYMODEL, MYMODEL2, MYMODEL3,MYMODEL4\n",
    "from lib import train,test"
   ]
  },
  {
   "cell_type": "code",
   "execution_count": 3,
   "metadata": {},
   "outputs": [],
   "source": [
    "args = get_configs()\n",
    "args.model_name = \"cross_day_week\""
   ]
  },
  {
   "cell_type": "code",
   "execution_count": 4,
   "metadata": {},
   "outputs": [],
   "source": [
    "\n",
    "x, c, te, tc, adj, ac, y = load_data_week(args)\n"
   ]
  },
  {
   "cell_type": "code",
   "execution_count": 5,
   "metadata": {},
   "outputs": [
    {
     "data": {
      "text/plain": [
       "torch.Size([726, 24, 31])"
      ]
     },
     "execution_count": 5,
     "metadata": {},
     "output_type": "execute_result"
    }
   ],
   "source": [
    "te.shape"
   ]
  },
  {
   "cell_type": "code",
   "execution_count": 6,
   "metadata": {},
   "outputs": [
    {
     "data": {
      "text/plain": [
       "torch.Size([726, 24, 66, 132])"
      ]
     },
     "execution_count": 6,
     "metadata": {},
     "output_type": "execute_result"
    }
   ],
   "source": [
    "x.shape"
   ]
  },
  {
   "cell_type": "code",
   "execution_count": 7,
   "metadata": {},
   "outputs": [
    {
     "data": {
      "text/plain": [
       "torch.Size([726, 24, 66, 66])"
      ]
     },
     "execution_count": 7,
     "metadata": {},
     "output_type": "execute_result"
    }
   ],
   "source": [
    "adj.shape"
   ]
  },
  {
   "cell_type": "code",
   "execution_count": 8,
   "metadata": {},
   "outputs": [
    {
     "data": {
      "text/plain": [
       "torch.Size([726, 24, 66, 66])"
      ]
     },
     "execution_count": 8,
     "metadata": {},
     "output_type": "execute_result"
    }
   ],
   "source": [
    "y.shape"
   ]
  },
  {
   "cell_type": "code",
   "execution_count": 9,
   "metadata": {},
   "outputs": [
    {
     "data": {
      "text/plain": [
       "torch.Size([726, 8, 12, 66, 132])"
      ]
     },
     "execution_count": 9,
     "metadata": {},
     "output_type": "execute_result"
    }
   ],
   "source": [
    "c.shape"
   ]
  },
  {
   "cell_type": "code",
   "execution_count": 10,
   "metadata": {},
   "outputs": [
    {
     "data": {
      "text/plain": [
       "torch.Size([726, 8, 12, 31])"
      ]
     },
     "execution_count": 10,
     "metadata": {},
     "output_type": "execute_result"
    }
   ],
   "source": [
    "tc.shape"
   ]
  },
  {
   "cell_type": "code",
   "execution_count": 11,
   "metadata": {},
   "outputs": [
    {
     "data": {
      "text/plain": [
       "torch.Size([726, 8, 12, 66, 66])"
      ]
     },
     "execution_count": 11,
     "metadata": {},
     "output_type": "execute_result"
    }
   ],
   "source": [
    "ac.shape"
   ]
  },
  {
   "cell_type": "code",
   "execution_count": 12,
   "metadata": {},
   "outputs": [],
   "source": [
    "x_train, x_valid, c_train, c_valid, adj_train, adj_valid, ac_train, ac_valid, te_train, te_valid,tc_train, tc_valid, y_train, y_valid = train_test_split(\n",
    "    x, c, adj, ac, te, tc, y, test_size=args.test_size, random_state=42)\n",
    "x_train, x_test, c_train, c_test, adj_train, adj_test, ac_train, ac_test, te_train, te_test, tc_train, tc_test, y_train, y_test = train_test_split(\n",
    "    x_train, c_train, adj_train, ac_train, te_train, tc_train, y_train, test_size=args.test_size, random_state=42)\n",
    "\n",
    "train_dataset = ODDataset(x_train, c_train, adj_train, ac_train, te_train, tc_train, y_train)\n",
    "valid_dataset = ODDataset(x_valid, c_valid, adj_valid, ac_valid, te_valid, tc_valid, y_valid)\n",
    "test_dataset = ODDataset(x_test, c_test, adj_test, ac_test, te_test, tc_test, y_test)\n",
    "\n",
    "train_dataloader = DataLoader(train_dataset, batch_size=args.batch_size, shuffle=False)\n",
    "valid_dataloader = DataLoader(valid_dataset, batch_size=args.batch_size, shuffle=False)\n",
    "test_dataloader = DataLoader(test_dataset, batch_size=args.batch_size, shuffle=False)"
   ]
  },
  {
   "cell_type": "code",
   "execution_count": 13,
   "metadata": {},
   "outputs": [],
   "source": [
    "\n",
    "se = torch.Tensor(np.load(args.se_path)).to(args.device)\n",
    "pe = torch.Tensor(pd.read_csv(args.pe_path,index_col=0).values).to(args.device)"
   ]
  },
  {
   "cell_type": "code",
   "execution_count": 14,
   "metadata": {},
   "outputs": [],
   "source": [
    "if args.model_name == \"vanilla\":\n",
    "    model = MYMODEL(\n",
    "        s_in_channels=se.size(1),\n",
    "        p_in_channels=pe.size(1),\n",
    "        t_in_channels=te.size(2),\n",
    "        o_in_channels=x.size(3),\n",
    "        num_nodes=x.size(2),\n",
    "        in_seq_len=args.in_seq_len,\n",
    "        out_seq_len=args.out_seq_len,\n",
    "        num_encoder_layers=args.num_encoder_layers,\n",
    "        d_model=args.d_model,\n",
    "        hidden_channels=args.hidden_channels,\n",
    "        heads=args.heads,\n",
    "        dropout=args.dropout\n",
    "    ).to(args.device)\n",
    "elif args.model_name == \"cross_day\":\n",
    "    model = MYMODEL2(\n",
    "        s_in_channels=se.size(1),\n",
    "        p_in_channels=pe.size(1),\n",
    "        t_in_channels=te.size(2),\n",
    "        o_in_channels=x.size(3),\n",
    "        num_nodes=x.size(2),\n",
    "        in_seq_len=args.in_seq_len,\n",
    "        out_seq_len=args.out_seq_len,\n",
    "        num_encoder_layers=args.num_encoder_layers,\n",
    "        d_model=args.d_model,\n",
    "        hidden_channels=args.hidden_channels,\n",
    "        heads=args.heads,\n",
    "        dropout=args.dropout,\n",
    "        alpha = args.alpha\n",
    "    ).to(args.device)\n",
    "elif args.model_name == \"cross_day_att\":\n",
    "    model = MYMODEL3(\n",
    "        s_in_channels=se.size(1),\n",
    "        p_in_channels=pe.size(1),\n",
    "        t_in_channels=te.size(2),\n",
    "        o_in_channels=x.size(3),\n",
    "        num_nodes=x.size(2),\n",
    "        in_seq_len=args.in_seq_len,\n",
    "        out_seq_len=args.out_seq_len,\n",
    "        num_encoder_layers=args.num_encoder_layers,\n",
    "        d_model=args.d_model,\n",
    "        hidden_channels=args.hidden_channels,\n",
    "        heads=args.heads,\n",
    "        dropout=args.dropout\n",
    "    ).to(args.device)\n",
    "elif args.model_name == \"cross_day_week\":\n",
    "    model = MYMODEL4(\n",
    "        s_in_channels=se.size(1),\n",
    "        p_in_channels=pe.size(1),\n",
    "        t_in_channels=te.size(2),\n",
    "        o_in_channels=x.size(3),\n",
    "        num_nodes=x.size(2),\n",
    "        in_seq_len=args.in_seq_len,\n",
    "        out_seq_len=args.out_seq_len,\n",
    "        num_encoder_layers=args.num_encoder_layers,\n",
    "        d_model=args.d_model,\n",
    "        hidden_channels=args.hidden_channels,\n",
    "        heads=args.heads,\n",
    "        dropout=args.dropout,\n",
    "        alpha = args.alpha\n",
    "    ).to(args.device)"
   ]
  },
  {
   "cell_type": "code",
   "execution_count": 15,
   "metadata": {},
   "outputs": [
    {
     "name": "stdout",
     "output_type": "stream",
     "text": [
      "7,860,611 total parameters.\n",
      "7,860,611 training parameters.\n"
     ]
    }
   ],
   "source": [
    "# Find total parameters and trainable parameters\n",
    "total_params = sum(p.numel() for p in model.parameters())\n",
    "print(f'{total_params:,} total parameters.')\n",
    "total_trainable_params = sum(\n",
    "    p.numel() for p in model.parameters() if p.requires_grad)\n",
    "print(f'{total_trainable_params:,} training parameters.')"
   ]
  },
  {
   "cell_type": "code",
   "execution_count": 16,
   "metadata": {},
   "outputs": [
    {
     "name": "stdout",
     "output_type": "stream",
     "text": [
      "MYMODEL4(\n",
      "  (spgat): SPGAT(\n",
      "    (od_emb): ODGAT(\n",
      "      (gat): GAT(\n",
      "        (conv1): GATConv(132, 128, heads=8)\n",
      "        (fc1): Linear(in_features=1024, out_features=128, bias=True)\n",
      "        (conv2): GATConv(128, 128, heads=8)\n",
      "        (fc2): Linear(in_features=1024, out_features=128, bias=True)\n",
      "      )\n",
      "    )\n",
      "  )\n",
      "  (sta): STA(\n",
      "    (tf): Linear(in_features=31, out_features=128, bias=True)\n",
      "    (sf): Linear(in_features=128, out_features=128, bias=True)\n",
      "    (pf): Linear(in_features=13, out_features=128, bias=True)\n",
      "    (fc): Linear(in_features=128, out_features=128, bias=True)\n",
      "    (fc1): Linear(in_features=256, out_features=128, bias=True)\n",
      "    (positional_encoding): PositionalEncoding()\n",
      "    (transformer_encoder): TransformerEncoder(\n",
      "      (layers): ModuleList(\n",
      "        (0-5): 6 x TransformerEncoderLayer(\n",
      "          (self_attn): MultiheadAttention(\n",
      "            (out_proj): NonDynamicallyQuantizableLinear(in_features=128, out_features=128, bias=True)\n",
      "          )\n",
      "          (linear1): Linear(in_features=128, out_features=2048, bias=True)\n",
      "          (dropout): Dropout(p=0.1, inplace=False)\n",
      "          (linear2): Linear(in_features=2048, out_features=128, bias=True)\n",
      "          (norm1): LayerNorm((128,), eps=1e-05, elementwise_affine=True)\n",
      "          (norm2): LayerNorm((128,), eps=1e-05, elementwise_affine=True)\n",
      "          (dropout1): Dropout(p=0.1, inplace=False)\n",
      "          (dropout2): Dropout(p=0.1, inplace=False)\n",
      "        )\n",
      "      )\n",
      "    )\n",
      "  )\n",
      "  (csta): STA(\n",
      "    (tf): Linear(in_features=31, out_features=128, bias=True)\n",
      "    (sf): Linear(in_features=128, out_features=128, bias=True)\n",
      "    (pf): Linear(in_features=13, out_features=128, bias=True)\n",
      "    (fc): Linear(in_features=128, out_features=128, bias=True)\n",
      "    (fc1): Linear(in_features=256, out_features=128, bias=True)\n",
      "    (positional_encoding): PositionalEncoding()\n",
      "    (transformer_encoder): TransformerEncoder(\n",
      "      (layers): ModuleList(\n",
      "        (0-5): 6 x TransformerEncoderLayer(\n",
      "          (self_attn): MultiheadAttention(\n",
      "            (out_proj): NonDynamicallyQuantizableLinear(in_features=128, out_features=128, bias=True)\n",
      "          )\n",
      "          (linear1): Linear(in_features=128, out_features=2048, bias=True)\n",
      "          (dropout): Dropout(p=0.1, inplace=False)\n",
      "          (linear2): Linear(in_features=2048, out_features=128, bias=True)\n",
      "          (norm1): LayerNorm((128,), eps=1e-05, elementwise_affine=True)\n",
      "          (norm2): LayerNorm((128,), eps=1e-05, elementwise_affine=True)\n",
      "          (dropout1): Dropout(p=0.1, inplace=False)\n",
      "          (dropout2): Dropout(p=0.1, inplace=False)\n",
      "        )\n",
      "      )\n",
      "    )\n",
      "  )\n",
      "  (fussion): Linear(in_features=256, out_features=128, bias=True)\n",
      "  (out): OUT(\n",
      "    (fc): Linear(in_features=256, out_features=128, bias=True)\n",
      "    (out): Linear(in_features=128, out_features=1, bias=True)\n",
      "  )\n",
      ")\n"
     ]
    }
   ],
   "source": [
    "print(model)"
   ]
  },
  {
   "cell_type": "code",
   "execution_count": 17,
   "metadata": {},
   "outputs": [],
   "source": [
    "optimizer = optim.Adam(model.parameters(),lr=args.lr)\n",
    "criterion = masked_mse\n",
    "scheduler = StepLR(optimizer, step_size=args.step_size, gamma=args.gamma)"
   ]
  },
  {
   "cell_type": "code",
   "execution_count": 18,
   "metadata": {},
   "outputs": [
    {
     "name": "stdout",
     "output_type": "stream",
     "text": [
      "Epoch: 00, Loss: 4.8763\n",
      "test loss: 6.4976\n",
      "Epoch: 01, Loss: 4.2600\n",
      "test loss: 3.8986\n",
      "Epoch: 02, Loss: 3.5784\n",
      "test loss: 3.5931\n",
      "Epoch: 03, Loss: 3.3666\n",
      "test loss: 3.4109\n",
      "Epoch: 04, Loss: 3.2582\n",
      "test loss: 3.3439\n",
      "Epoch: 05, Loss: 3.1940\n",
      "test loss: 3.3435\n",
      "Epoch: 06, Loss: 3.1370\n",
      "test loss: 3.3296\n",
      "Epoch: 07, Loss: 3.0741\n",
      "test loss: 3.2144\n",
      "Epoch: 08, Loss: 3.0124\n",
      "test loss: 3.1164\n",
      "Epoch: 09, Loss: 2.9742\n",
      "test loss: 3.0840\n",
      "Epoch: 10, Loss: 2.9402\n",
      "Epoch: 11, Loss: 2.9169\n",
      "test loss: 3.0751\n",
      "Epoch: 12, Loss: 2.8987\n",
      "test loss: 3.0583\n",
      "Epoch: 13, Loss: 2.8849\n",
      "test loss: 3.0483\n",
      "Epoch: 14, Loss: 2.8738\n",
      "test loss: 3.0470\n",
      "Epoch: 15, Loss: 2.8656\n",
      "Epoch: 16, Loss: 2.8581\n",
      "Epoch: 17, Loss: 2.8514\n",
      "Epoch: 18, Loss: 2.8456\n",
      "Epoch: 19, Loss: 2.8391\n",
      "Epoch: 20, Loss: 2.8318\n",
      "Epoch: 21, Loss: 2.8256\n",
      "Epoch: 22, Loss: 2.8207\n",
      "test loss: 3.0450\n",
      "Epoch: 23, Loss: 2.8171\n",
      "test loss: 3.0407\n",
      "Epoch: 24, Loss: 2.8145\n",
      "test loss: 3.0383\n",
      "Epoch: 25, Loss: 2.8138\n",
      "test loss: 3.0357\n",
      "Epoch: 26, Loss: 2.8146\n",
      "test loss: 3.0035\n",
      "Epoch: 27, Loss: 2.8123\n",
      "test loss: 2.9666\n",
      "Epoch: 28, Loss: 2.8076\n",
      "test loss: 2.9533\n",
      "Epoch: 29, Loss: 2.8019\n",
      "test loss: 2.9500\n",
      "Epoch: 30, Loss: 2.7999\n",
      "test loss: 2.9370\n",
      "Epoch: 31, Loss: 2.7984\n",
      "test loss: 2.9321\n",
      "Epoch: 32, Loss: 2.7961\n",
      "test loss: 2.9172\n",
      "Epoch: 33, Loss: 2.7915\n",
      "test loss: 2.9109\n",
      "Epoch: 34, Loss: 2.7865\n",
      "test loss: 2.9071\n",
      "Epoch: 35, Loss: 2.7817\n",
      "test loss: 2.9025\n",
      "Epoch: 36, Loss: 2.7778\n",
      "test loss: 2.8991\n",
      "Epoch: 37, Loss: 2.7742\n",
      "test loss: 2.8960\n",
      "Epoch: 38, Loss: 2.7707\n",
      "test loss: 2.8926\n",
      "Epoch: 39, Loss: 2.7675\n",
      "test loss: 2.8898\n",
      "Epoch: 40, Loss: 2.7655\n",
      "Epoch: 41, Loss: 2.7622\n",
      "test loss: 2.8853\n",
      "Epoch: 42, Loss: 2.7585\n",
      "test loss: 2.8817\n",
      "Epoch: 43, Loss: 2.7553\n",
      "test loss: 2.8787\n",
      "Epoch: 44, Loss: 2.7523\n",
      "test loss: 2.8756\n",
      "Epoch: 45, Loss: 2.7494\n",
      "test loss: 2.8729\n",
      "Epoch: 46, Loss: 2.7467\n",
      "test loss: 2.8704\n",
      "Epoch: 47, Loss: 2.7441\n",
      "test loss: 2.8682\n",
      "Epoch: 48, Loss: 2.7415\n",
      "test loss: 2.8660\n",
      "Epoch: 49, Loss: 2.7391\n",
      "test loss: 2.8648\n",
      "Epoch: 50, Loss: 2.7395\n",
      "Epoch: 51, Loss: 2.7387\n",
      "Epoch: 52, Loss: 2.7369\n",
      "Epoch: 53, Loss: 2.7350\n",
      "Epoch: 54, Loss: 2.7329\n",
      "test loss: 2.8632\n",
      "Epoch: 55, Loss: 2.7308\n",
      "test loss: 2.8603\n",
      "Epoch: 56, Loss: 2.7285\n",
      "test loss: 2.8571\n",
      "Epoch: 57, Loss: 2.7263\n",
      "test loss: 2.8542\n",
      "Epoch: 58, Loss: 2.7243\n",
      "test loss: 2.8521\n",
      "Epoch: 59, Loss: 2.7224\n",
      "test loss: 2.8501\n",
      "Epoch: 60, Loss: 2.7232\n",
      "Epoch: 61, Loss: 2.7228\n",
      "Epoch: 62, Loss: 2.7219\n",
      "Epoch: 63, Loss: 2.7211\n",
      "Epoch: 64, Loss: 2.7201\n",
      "Epoch: 65, Loss: 2.7192\n",
      "Epoch: 66, Loss: 2.7185\n",
      "Epoch: 67, Loss: 2.7180\n",
      "Epoch: 68, Loss: 2.7171\n",
      "Epoch: 69, Loss: 2.7163\n",
      "Early stopping at epoch 69.\n"
     ]
    }
   ],
   "source": [
    "train(model,train_dataloader,se,pe,valid_dataloader,optimizer,criterion,scheduler,args)"
   ]
  },
  {
   "cell_type": "code",
   "execution_count": 19,
   "metadata": {},
   "outputs": [],
   "source": [
    "# model = torch.load(f\"{args.model_path}/model_{args.model_name}_epoch_{args.epoch}_batchsize_{args.batch_size}_lr_{args.lr}.pth\").to(args.device)"
   ]
  },
  {
   "cell_type": "code",
   "execution_count": 20,
   "metadata": {},
   "outputs": [],
   "source": [
    "# test_loss,p = test(model,test_dataloader,se,pe,criterion,args)"
   ]
  },
  {
   "cell_type": "markdown",
   "metadata": {},
   "source": []
  },
  {
   "cell_type": "code",
   "execution_count": 21,
   "metadata": {},
   "outputs": [],
   "source": [
    "# test_loss"
   ]
  },
  {
   "cell_type": "code",
   "execution_count": 22,
   "metadata": {},
   "outputs": [],
   "source": [
    "# y_test = y_test.to(args.device)"
   ]
  },
  {
   "cell_type": "code",
   "execution_count": 23,
   "metadata": {},
   "outputs": [],
   "source": [
    "# mse,rmse,mae,mape = metric(p,y_test)\n"
   ]
  },
  {
   "cell_type": "code",
   "execution_count": 24,
   "metadata": {},
   "outputs": [],
   "source": [
    "# mse"
   ]
  },
  {
   "cell_type": "code",
   "execution_count": 25,
   "metadata": {},
   "outputs": [],
   "source": [
    "# mape"
   ]
  },
  {
   "cell_type": "code",
   "execution_count": 26,
   "metadata": {},
   "outputs": [],
   "source": [
    "# rmse"
   ]
  },
  {
   "cell_type": "code",
   "execution_count": 27,
   "metadata": {},
   "outputs": [],
   "source": [
    "# mae"
   ]
  },
  {
   "cell_type": "code",
   "execution_count": 28,
   "metadata": {},
   "outputs": [],
   "source": [
    "# args.device"
   ]
  },
  {
   "cell_type": "code",
   "execution_count": null,
   "metadata": {},
   "outputs": [],
   "source": []
  }
 ],
 "metadata": {
  "kernelspec": {
   "display_name": "Python 3 (ipykernel)",
   "language": "python",
   "name": "python3"
  },
  "language_info": {
   "codemirror_mode": {
    "name": "ipython",
    "version": 3
   },
   "file_extension": ".py",
   "mimetype": "text/x-python",
   "name": "python",
   "nbconvert_exporter": "python",
   "pygments_lexer": "ipython3",
   "version": "3.8.18"
  }
 },
 "nbformat": 4,
 "nbformat_minor": 4
}
