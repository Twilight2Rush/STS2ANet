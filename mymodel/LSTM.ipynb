{
 "cells": [
  {
   "cell_type": "code",
   "execution_count": 2,
   "id": "625c2a00-37a2-46ca-aace-a53496ec9957",
   "metadata": {},
   "outputs": [],
   "source": [
    "import torch\n",
    "import torch.nn as nn\n",
    "import torch.nn.functional as F\n",
    "import torch.optim as optim\n",
    "from torch.optim.lr_scheduler import StepLR\n",
    "from utils import od_dataloader,masked_mse, ODLoss\n",
    "from config import get_configs\n",
    "import numpy as np\n",
    "import pandas as pd\n",
    "from lib import train, test\n",
    "from models import ContrastiveLoss"
   ]
  },
  {
   "cell_type": "code",
   "execution_count": 3,
   "id": "d2bba7a3-e5fb-4ff5-9073-874bb7d0142c",
   "metadata": {},
   "outputs": [],
   "source": [
    "args = get_configs()"
   ]
  },
  {
   "cell_type": "code",
   "execution_count": 4,
   "id": "f3c0ba51-3095-4847-adaa-b7a1bd3f521c",
   "metadata": {},
   "outputs": [],
   "source": [
    "args.model_name = 'lstm'\n",
    "args.epoch = 300\n",
    "# args.batch_size = 64"
   ]
  },
  {
   "cell_type": "code",
   "execution_count": 5,
   "id": "c3e98e25-454c-495c-b8c8-576af0ea693d",
   "metadata": {},
   "outputs": [
    {
     "name": "stdout",
     "output_type": "stream",
     "text": [
      "train number:832\n",
      "validation number:128\n",
      "test number:128\n"
     ]
    }
   ],
   "source": [
    "se = torch.Tensor(np.load(args.se_path)).to(args.device)\n",
    "pe = torch.Tensor(pd.read_csv(args.pe_path,index_col=0).values).to(args.device)\n",
    "train_dataloader,val_dataloader, test_dataloader,z_adj = od_dataloader(args)"
   ]
  },
  {
   "cell_type": "code",
   "execution_count": 35,
   "id": "fa4dc5a0-f871-4123-8bbe-e55372afe539",
   "metadata": {},
   "outputs": [],
   "source": [
    "class LSTMModel(nn.Module):\n",
    "    def __init__(self, input_size, hidden_size, num_layers, output_size):\n",
    "        super(LSTMModel, self).__init__()\n",
    "        self.lstm = nn.LSTM(input_size, hidden_size, num_layers, batch_first=True)\n",
    "        self.fc = nn.Linear(hidden_size, input_size)  # 输出与输入形状相同\n",
    "\n",
    "    def forward(self, x, te, se, pe, adj,z_adj):\n",
    "        B,T,N,N = x.size()\n",
    "        x = x.reshape(B,T,N*N)\n",
    "        out, _ = self.lstm(x)\n",
    "        out = self.fc(out)\n",
    "        out = out.reshape(B,T,N,N)\n",
    "        return out\n"
   ]
  },
  {
   "cell_type": "code",
   "execution_count": 39,
   "id": "62560491-42bc-4f35-8652-70c6239ecc3c",
   "metadata": {},
   "outputs": [],
   "source": [
    "model = LSTMModel(66*66,128,1,66*66)"
   ]
  },
  {
   "cell_type": "code",
   "execution_count": 40,
   "id": "938e575f-85bd-4298-966e-9c7045b5d46d",
   "metadata": {},
   "outputs": [],
   "source": [
    "optimizer = optim.Adam(model.parameters(), lr=args.lr)\n",
    "criterion = ODLoss\n",
    "contrastive_loss = ContrastiveLoss(margin=2)\n",
    "scheduler = StepLR(optimizer, step_size=args.step_size, gamma=args.gamma)"
   ]
  },
  {
   "cell_type": "code",
   "execution_count": 41,
   "id": "5bd3c537-d993-497d-99da-a7ad8ad51b78",
   "metadata": {},
   "outputs": [
    {
     "name": "stdout",
     "output_type": "stream",
     "text": [
      "Epoch: 00, Loss: 3.9830\n",
      "test loss: 2.7600\n",
      "Epoch: 01, Loss: 2.8767\n",
      "test loss: 2.4848\n",
      "Epoch: 02, Loss: 2.7977\n",
      "test loss: 2.4734\n",
      "Epoch: 03, Loss: 2.7236\n",
      "test loss: 2.3846\n",
      "Epoch: 04, Loss: 2.6211\n",
      "test loss: 2.3836\n",
      "Epoch: 05, Loss: 2.5735\n",
      "test loss: 2.2901\n",
      "Epoch: 06, Loss: 2.4281\n",
      "test loss: 2.1757\n",
      "Epoch: 07, Loss: 2.4633\n",
      "Epoch: 08, Loss: 2.4246\n",
      "Epoch: 09, Loss: 2.3764\n",
      "test loss: 2.1668\n",
      "Epoch: 10, Loss: 2.4028\n",
      "test loss: 2.1282\n",
      "Epoch: 11, Loss: 2.3517\n",
      "Epoch: 12, Loss: 2.3392\n",
      "Epoch: 13, Loss: 2.2952\n",
      "test loss: 2.0720\n",
      "Epoch: 14, Loss: 2.2650\n",
      "test loss: 2.0561\n",
      "Epoch: 15, Loss: 2.1876\n",
      "test loss: 2.0141\n",
      "Epoch: 16, Loss: 2.1239\n",
      "test loss: 1.9771\n",
      "Epoch: 17, Loss: 2.0216\n",
      "test loss: 1.9205\n",
      "Epoch: 18, Loss: 1.9580\n",
      "test loss: 1.8951\n",
      "Epoch: 19, Loss: 1.9975\n",
      "test loss: 1.8835\n",
      "Epoch: 20, Loss: 1.9410\n",
      "test loss: 1.8692\n",
      "Epoch: 21, Loss: 1.9445\n",
      "test loss: 1.8682\n",
      "Epoch: 22, Loss: 1.9528\n",
      "Epoch: 23, Loss: 1.8757\n",
      "test loss: 1.8470\n",
      "Epoch: 24, Loss: 1.8696\n",
      "test loss: 1.8159\n",
      "Epoch: 25, Loss: 1.8285\n",
      "test loss: 1.8082\n",
      "Epoch: 26, Loss: 1.8104\n",
      "Epoch: 27, Loss: 1.7780\n",
      "test loss: 1.7867\n",
      "Epoch: 28, Loss: 1.7770\n",
      "test loss: 1.7606\n",
      "Epoch: 29, Loss: 1.7433\n",
      "test loss: 1.7529\n",
      "Epoch: 30, Loss: 1.7309\n",
      "test loss: 1.7333\n",
      "Epoch: 31, Loss: 1.6746\n",
      "Epoch: 32, Loss: 1.6561\n",
      "test loss: 1.7180\n",
      "Epoch: 33, Loss: 1.6212\n",
      "test loss: 1.7065\n",
      "Epoch: 34, Loss: 1.5961\n",
      "Epoch: 35, Loss: 1.5832\n",
      "Epoch: 36, Loss: 1.5896\n",
      "Epoch: 37, Loss: 1.5617\n",
      "test loss: 1.6781\n",
      "Epoch: 38, Loss: 1.5451\n",
      "test loss: 1.6324\n",
      "Epoch: 39, Loss: 1.5951\n",
      "test loss: 1.6295\n",
      "Epoch: 40, Loss: 1.5456\n",
      "Epoch: 41, Loss: 1.5053\n",
      "test loss: 1.6008\n",
      "Epoch: 42, Loss: 1.4923\n",
      "test loss: 1.5933\n",
      "Epoch: 43, Loss: 1.4827\n",
      "Epoch: 44, Loss: 1.5022\n",
      "test loss: 1.5886\n",
      "Epoch: 45, Loss: 1.4626\n",
      "Epoch: 46, Loss: 1.4588\n",
      "test loss: 1.5748\n",
      "Epoch: 47, Loss: 1.4753\n",
      "test loss: 1.5674\n",
      "Epoch: 48, Loss: 1.4598\n",
      "test loss: 1.5629\n",
      "Epoch: 49, Loss: 1.4298\n",
      "test loss: 1.5428\n",
      "Epoch: 50, Loss: 1.4245\n",
      "test loss: 1.5404\n",
      "Epoch: 51, Loss: 1.4063\n",
      "test loss: 1.5243\n",
      "Epoch: 52, Loss: 1.3858\n",
      "Epoch: 53, Loss: 1.3512\n",
      "test loss: 1.5073\n",
      "Epoch: 54, Loss: 1.3347\n",
      "test loss: 1.5008\n",
      "Epoch: 55, Loss: 1.3345\n",
      "Epoch: 56, Loss: 1.3249\n",
      "test loss: 1.4970\n",
      "Epoch: 57, Loss: 1.3014\n",
      "test loss: 1.4890\n",
      "Epoch: 58, Loss: 1.2917\n",
      "Epoch: 59, Loss: 1.2864\n",
      "test loss: 1.4845\n",
      "Epoch: 60, Loss: 1.2771\n",
      "Epoch: 61, Loss: 1.2660\n",
      "test loss: 1.4759\n",
      "Epoch: 62, Loss: 1.2598\n",
      "test loss: 1.4755\n",
      "Epoch: 63, Loss: 1.2517\n",
      "test loss: 1.4744\n",
      "Epoch: 64, Loss: 1.2454\n",
      "test loss: 1.4709\n",
      "Epoch: 65, Loss: 1.2365\n",
      "Epoch: 66, Loss: 1.2252\n",
      "Epoch: 67, Loss: 1.2188\n",
      "test loss: 1.4660\n",
      "Epoch: 68, Loss: 1.2067\n",
      "test loss: 1.4649\n",
      "Epoch: 69, Loss: 1.1955\n",
      "Epoch: 70, Loss: 1.1935\n",
      "test loss: 1.4629\n",
      "Epoch: 71, Loss: 1.1850\n",
      "test loss: 1.4575\n",
      "Epoch: 72, Loss: 1.1784\n",
      "Epoch: 73, Loss: 1.1738\n",
      "Epoch: 74, Loss: 1.1644\n",
      "Epoch: 75, Loss: 1.1536\n",
      "Epoch: 76, Loss: 1.1490\n",
      "Epoch: 77, Loss: 1.1506\n",
      "test loss: 1.4420\n",
      "Epoch: 78, Loss: 1.1390\n",
      "Epoch: 79, Loss: 1.1324\n",
      "Epoch: 80, Loss: 1.1298\n",
      "Epoch: 81, Loss: 1.1228\n",
      "Epoch: 82, Loss: 1.1187\n",
      "Epoch: 83, Loss: 1.1129\n",
      "Epoch: 84, Loss: 1.1087\n",
      "Epoch: 85, Loss: 1.1069\n",
      "Epoch: 86, Loss: 1.1026\n",
      "Epoch: 87, Loss: 1.0943\n",
      "Early stopping at epoch 87.\n"
     ]
    }
   ],
   "source": [
    "train(model,train_dataloader,se,pe,z_adj,val_dataloader,optimizer,criterion,scheduler,args)"
   ]
  },
  {
   "cell_type": "code",
   "execution_count": 42,
   "id": "88394cf1-86d3-4427-91ec-502d18359f29",
   "metadata": {},
   "outputs": [],
   "source": [
    "mse,rmse,mae,mape,p_total,y_total = test(model,test_dataloader,se,pe,z_adj,criterion,args,True)"
   ]
  },
  {
   "cell_type": "code",
   "execution_count": 43,
   "id": "02f32c03-e27d-48cd-9063-89f2e5673120",
   "metadata": {},
   "outputs": [
    {
     "data": {
      "text/plain": [
       "1.622209906578064"
      ]
     },
     "execution_count": 43,
     "metadata": {},
     "output_type": "execute_result"
    }
   ],
   "source": [
    "mse"
   ]
  },
  {
   "cell_type": "code",
   "execution_count": 44,
   "id": "8c0c2111-1aa8-48f8-954e-29b1342d73bf",
   "metadata": {},
   "outputs": [
    {
     "data": {
      "text/plain": [
       "1.2736600637435913"
      ]
     },
     "execution_count": 44,
     "metadata": {},
     "output_type": "execute_result"
    }
   ],
   "source": [
    "rmse"
   ]
  },
  {
   "cell_type": "code",
   "execution_count": 45,
   "id": "a62917f4-c47b-4a60-86f6-0abe51f6f44d",
   "metadata": {},
   "outputs": [
    {
     "data": {
      "text/plain": [
       "0.5556039214134216"
      ]
     },
     "execution_count": 45,
     "metadata": {},
     "output_type": "execute_result"
    }
   ],
   "source": [
    "mae"
   ]
  },
  {
   "cell_type": "code",
   "execution_count": 46,
   "id": "55e15acf-bef7-4d59-a3ce-dc4857591035",
   "metadata": {},
   "outputs": [
    {
     "data": {
      "text/plain": [
       "1.6030184030532837"
      ]
     },
     "execution_count": 46,
     "metadata": {},
     "output_type": "execute_result"
    }
   ],
   "source": [
    "mape"
   ]
  },
  {
   "cell_type": "code",
   "execution_count": 14,
   "id": "c4f37ff3-485f-4cde-b5d4-2278e28d2fdb",
   "metadata": {},
   "outputs": [
    {
     "ename": "RuntimeError",
     "evalue": "shape '[1152, 66, 66]' is invalid for input of size 13381632",
     "output_type": "error",
     "traceback": [
      "\u001b[0;31m---------------------------------------------------------------------------\u001b[0m",
      "\u001b[0;31mRuntimeError\u001b[0m                              Traceback (most recent call last)",
      "Cell \u001b[0;32mIn[14], line 1\u001b[0m\n\u001b[0;32m----> 1\u001b[0m p_copy \u001b[38;5;241m=\u001b[39m \u001b[43mp_total\u001b[49m\u001b[38;5;241;43m.\u001b[39;49m\u001b[43mreshape\u001b[49m\u001b[43m(\u001b[49m\u001b[38;5;241;43m48\u001b[39;49m\u001b[38;5;241;43m*\u001b[39;49m\u001b[38;5;241;43m24\u001b[39;49m\u001b[43m,\u001b[49m\u001b[38;5;241;43m66\u001b[39;49m\u001b[43m,\u001b[49m\u001b[38;5;241;43m66\u001b[39;49m\u001b[43m)\u001b[49m\n\u001b[1;32m      2\u001b[0m p_copy \u001b[38;5;241m=\u001b[39m p_copy\u001b[38;5;241m.\u001b[39mpermute(\u001b[38;5;241m1\u001b[39m,\u001b[38;5;241m2\u001b[39m,\u001b[38;5;241m0\u001b[39m)\n\u001b[1;32m      3\u001b[0m p_1 \u001b[38;5;241m=\u001b[39m p_copy[\u001b[38;5;241m18\u001b[39m][\u001b[38;5;241m14\u001b[39m]\n",
      "\u001b[0;31mRuntimeError\u001b[0m: shape '[1152, 66, 66]' is invalid for input of size 13381632"
     ]
    }
   ],
   "source": [
    "p_copy = p_total.reshape(48*24,66,66)\n",
    "p_copy = p_copy.permute(1,2,0)\n",
    "p_1 = p_copy[18][14]"
   ]
  },
  {
   "cell_type": "code",
   "execution_count": null,
   "id": "102ca3a0-4e1f-48da-b918-f6a7f4d841a3",
   "metadata": {},
   "outputs": [],
   "source": [
    "y_copy = y_total.reshape(48*24,66,66)\n",
    "y_copy = y_copy.permute(1,2,0)\n",
    "y_1 = y_copy[18][14]"
   ]
  },
  {
   "cell_type": "code",
   "execution_count": null,
   "id": "258c5891-56ef-43b2-ab0b-ec49478fb82b",
   "metadata": {},
   "outputs": [],
   "source": [
    "# -*- coding: UTF-8 -*-\n",
    "import numpy as np\n",
    "import matplotlib as mpl\n",
    "import matplotlib.pyplot as plt\n",
    "\n",
    "plt.figure(figsize=(80, 5))\n",
    "plt.plot(range(0,100), p_1[:100].cpu(), color='green', label='pred')\n",
    "plt.plot(range(0,100), y_1[:100].cpu(), color='red', label='label')\n",
    "plt.legend()\n",
    "\n",
    "plt.xlabel('time')\n",
    "plt.ylabel('value')\n",
    "plt.show()"
   ]
  },
  {
   "cell_type": "code",
   "execution_count": null,
   "id": "ad6e5b92-25be-4bbd-8983-9467db432964",
   "metadata": {},
   "outputs": [],
   "source": [
    "p_0 = torch.zeros(1,24,66,66).to(args.device)\n",
    "p_total = torch.cat((p_total,p_0),dim=0)\n",
    "p = p_total.reshape(49*24,66,66)\n",
    "# p  = p_total.permute(1,0,2,3)\n",
    "p_time = torch.mean(p, dim=1)\n",
    "# p_time = torch.mean(p_time, dim=1)\n",
    "p_time = torch.mean(p_time, dim=1)\n",
    "p_time = p_time.reshape(7,7,24)\n",
    "p_time = p_time[:,[3,4,5,6,0,1,2],:]\n",
    "p_time = torch.mean(p_time, dim=0)\n",
    "# p_time = p_time.reshape(168)"
   ]
  },
  {
   "cell_type": "code",
   "execution_count": null,
   "id": "8a7123dc-28b0-4c5a-9c5e-c68750181886",
   "metadata": {},
   "outputs": [],
   "source": [
    "y_0 = torch.zeros(1,24,66,66).to(args.device)\n",
    "y_total = torch.cat((y_total,y_0),dim=0)\n",
    "y = y_total.reshape(49*24,66,66)\n",
    "y_time =  torch.mean(y, dim=1)\n",
    "# y_time =  torch.mean(y_time, dim=1)\n",
    "y_time =  torch.mean(y_time, dim=1)\n",
    "y_time = y_time.reshape(7,7,24)\n",
    "y_time = y_time[:,[3,4,5,6,0,1,2],:]\n",
    "y_time = torch.mean(y_time, dim=0)\n",
    "# y_time = y_time.reshape(168)"
   ]
  },
  {
   "cell_type": "code",
   "execution_count": null,
   "id": "b991a708-c7e1-4e41-b52f-96f63508e4cd",
   "metadata": {},
   "outputs": [],
   "source": [
    "# -*- coding: UTF-8 -*-\n",
    "import numpy as np\n",
    "import matplotlib as mpl\n",
    "import matplotlib.pyplot as plt\n",
    "\n",
    "plt.figure(figsize=(10, 5))\n",
    "plt.plot(range(6,30), y_time[1].cpu(), label='Mon_label')\n",
    "plt.plot(range(6,30), p_time[1].cpu(), label='Mon_pred')\n",
    "plt.legend()\n",
    "\n",
    "plt.xlabel('time')\n",
    "plt.ylabel('value')\n",
    "plt.show()"
   ]
  },
  {
   "cell_type": "code",
   "execution_count": null,
   "id": "6f9016ef-541c-45a1-894d-1bc8f31806a1",
   "metadata": {},
   "outputs": [],
   "source": [
    "# -*- coding: UTF-8 -*-\n",
    "import numpy as np\n",
    "import matplotlib as mpl\n",
    "import matplotlib.pyplot as plt\n",
    "\n",
    "plt.figure(figsize=(10, 5))\n",
    "plt.plot(range(6,30), y_time[2].cpu(), label='Tue_label')\n",
    "plt.plot(range(6,30), p_time[2].cpu(), label='Tue_pred')\n",
    "plt.legend()\n",
    "\n",
    "plt.xlabel('time')\n",
    "plt.ylabel('value')\n",
    "plt.show()"
   ]
  },
  {
   "cell_type": "code",
   "execution_count": null,
   "id": "ea144afd-cefb-4c11-b3ed-65c0948be269",
   "metadata": {},
   "outputs": [],
   "source": [
    "# -*- coding: UTF-8 -*-\n",
    "import numpy as np\n",
    "import matplotlib as mpl\n",
    "import matplotlib.pyplot as plt\n",
    "\n",
    "plt.figure(figsize=(10, 5))\n",
    "plt.plot(range(6,30), y_time[3].cpu(), label='Wed_label')\n",
    "plt.plot(range(6,30), p_time[3].cpu(), label='Wed_pred')\n",
    "plt.legend()\n",
    "\n",
    "plt.xlabel('time')\n",
    "plt.ylabel('value')\n",
    "plt.show()"
   ]
  },
  {
   "cell_type": "code",
   "execution_count": null,
   "id": "8a77ae64-f838-4533-aa36-575709bfbc2a",
   "metadata": {},
   "outputs": [],
   "source": [
    "# -*- coding: UTF-8 -*-\n",
    "import numpy as np\n",
    "import matplotlib as mpl\n",
    "import matplotlib.pyplot as plt\n",
    "\n",
    "plt.figure(figsize=(10, 5))\n",
    "plt.plot(range(6,30), y_time[4].cpu(), label='Thu_label')\n",
    "plt.plot(range(6,30), p_time[4].cpu(), label='Thu_pred')\n",
    "plt.legend()\n",
    "\n",
    "plt.xlabel('time')\n",
    "plt.ylabel('value')\n",
    "plt.show()"
   ]
  },
  {
   "cell_type": "code",
   "execution_count": null,
   "id": "945f03ec-343b-45c3-828b-648ee0601dc7",
   "metadata": {},
   "outputs": [],
   "source": [
    "# -*- coding: UTF-8 -*-\n",
    "import numpy as np\n",
    "import matplotlib as mpl\n",
    "import matplotlib.pyplot as plt\n",
    "\n",
    "plt.figure(figsize=(10, 5))\n",
    "plt.plot(range(6,30), y_time[5].cpu(), label='Fri_label')\n",
    "plt.plot(range(6,30), p_time[5].cpu(), label='Fri_pred')\n",
    "plt.legend()\n",
    "\n",
    "plt.xlabel('time')\n",
    "plt.ylabel('value')\n",
    "plt.show()"
   ]
  },
  {
   "cell_type": "code",
   "execution_count": null,
   "id": "b9109e90-3888-4127-b830-34610817c6c9",
   "metadata": {},
   "outputs": [],
   "source": [
    "# -*- coding: UTF-8 -*-\n",
    "import numpy as np\n",
    "import matplotlib as mpl\n",
    "import matplotlib.pyplot as plt\n",
    "\n",
    "plt.figure(figsize=(10, 5))\n",
    "plt.plot(range(6,30), y_time[6].cpu(), label='Sat_label')\n",
    "plt.plot(range(6,30), p_time[6].cpu(), label='Sat_pred')\n",
    "plt.legend()\n",
    "\n",
    "plt.xlabel('time')\n",
    "plt.ylabel('value')\n",
    "plt.show()"
   ]
  },
  {
   "cell_type": "code",
   "execution_count": null,
   "id": "b4f49b35-eedd-48c8-9371-0a1fc8321dae",
   "metadata": {},
   "outputs": [],
   "source": [
    "# -*- coding: UTF-8 -*-\n",
    "import numpy as np\n",
    "import matplotlib as mpl\n",
    "import matplotlib.pyplot as plt\n",
    "\n",
    "plt.figure(figsize=(10, 5))\n",
    "plt.plot(range(6,30), y_time[0].cpu(), label='Sun_label')\n",
    "plt.plot(range(6,30), p_time[0].cpu(), label='Sun_pred')\n",
    "plt.legend()\n",
    "\n",
    "plt.xlabel('time')\n",
    "plt.ylabel('value')\n",
    "plt.show()"
   ]
  },
  {
   "cell_type": "code",
   "execution_count": null,
   "id": "c87f7945-c765-43c3-ab5a-d0bdeb59e50d",
   "metadata": {},
   "outputs": [],
   "source": [
    "y_weekday = y_total[:35]\n",
    "y_weekday = y_weekday.reshape(5,7,24,66,66)\n",
    "y_weekday = y_weekday[:,[3,4,5,6,0,1,2],:,:,:]\n",
    "y_weekend = y_weekday[:,4:,:,:,:]\n",
    "y_weekday = y_weekday[:,:4,:,:,:]\n",
    "p_weekday = p_total[:35]\n",
    "p_weekday = p_weekday.reshape(5,7,24,66,66)\n",
    "p_weekday = p_weekday[:,[3,4,5,6,0,1,2],:,:,:]\n",
    "p_weekend = p_weekday[:,4:,:,:,:]\n",
    "p_weekday = p_weekday[:,:4,:,:,:]\n"
   ]
  },
  {
   "cell_type": "code",
   "execution_count": null,
   "id": "ae8141e6-6d97-4d7c-897e-be4aadac6be4",
   "metadata": {},
   "outputs": [],
   "source": [
    "weekday_mse = masked_mse(y_weekday,p_weekday)\n",
    "weekday_mse"
   ]
  },
  {
   "cell_type": "code",
   "execution_count": null,
   "id": "cd7bcee2-2dd5-4f97-a3a8-f0f863248697",
   "metadata": {},
   "outputs": [],
   "source": [
    "weekend_mse = masked_mse(y_weekend,p_weekend)\n",
    "weekend_mse"
   ]
  },
  {
   "cell_type": "code",
   "execution_count": null,
   "id": "5064edf5-5a11-4c4c-95f0-5606ef2c164c",
   "metadata": {},
   "outputs": [],
   "source": []
  }
 ],
 "metadata": {
  "kernelspec": {
   "display_name": "dissertation",
   "language": "python",
   "name": "dissertation"
  },
  "language_info": {
   "codemirror_mode": {
    "name": "ipython",
    "version": 3
   },
   "file_extension": ".py",
   "mimetype": "text/x-python",
   "name": "python",
   "nbconvert_exporter": "python",
   "pygments_lexer": "ipython3",
   "version": "3.11.5"
  }
 },
 "nbformat": 4,
 "nbformat_minor": 5
}
