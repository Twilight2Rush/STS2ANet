{
 "cells": [
  {
   "cell_type": "code",
   "execution_count": 1,
   "metadata": {},
   "outputs": [],
   "source": [
    "import torch\n",
    "from embeddings import Embeddings\n",
    "from utils import load_data"
   ]
  },
  {
   "cell_type": "code",
   "execution_count": 2,
   "metadata": {},
   "outputs": [],
   "source": [
    "\n",
    "device = torch.device(\"cuda\" if torch.cuda.is_available() else \"cpu\")\n",
    "data_path = '../data/processed data/all_od_tiny.pkl'\n",
    "te,x,adj = load_data(data_path)\n",
    "adj = adj.long()"
   ]
  },
  {
   "cell_type": "code",
   "execution_count": 3,
   "metadata": {},
   "outputs": [],
   "source": [
    "x = x.to(device)\n",
    "adj = adj.to(device)\n",
    "te = te.to(device)"
   ]
  },
  {
   "cell_type": "code",
   "execution_count": 4,
   "metadata": {},
   "outputs": [
    {
     "data": {
      "text/plain": [
       "Embeddings(\n",
       "  (t_emb): TemporalEmbedding(\n",
       "    (l1): Linear(in_features=34, out_features=128, bias=True)\n",
       "    (l2): Linear(in_features=128, out_features=128, bias=True)\n",
       "  )\n",
       "  (od_emb): ODEmbedding(\n",
       "    (gat): GAT(\n",
       "      (conv1): GATConv(132, 128, heads=8)\n",
       "      (fc1): Linear(in_features=1024, out_features=128, bias=True)\n",
       "      (conv2): GATConv(128, 128, heads=8)\n",
       "      (fc2): Linear(in_features=1024, out_features=128, bias=True)\n",
       "    )\n",
       "  )\n",
       "  (fc): Linear(in_features=256, out_features=128, bias=True)\n",
       ")"
      ]
     },
     "execution_count": 4,
     "metadata": {},
     "output_type": "execute_result"
    }
   ],
   "source": [
    "em = Embeddings(s_in_channels=10,t_in_channels=te.size(1),o_in_channels=x.size(2),hidden_channels=128,out_channels=128,heads=8,dropout=0.5)\n",
    "em.to(device)"
   ]
  },
  {
   "cell_type": "code",
   "execution_count": 5,
   "metadata": {},
   "outputs": [],
   "source": [
    "ee = em(x,te,adj,adj)"
   ]
  },
  {
   "cell_type": "code",
   "execution_count": 6,
   "metadata": {},
   "outputs": [
    {
     "data": {
      "text/plain": [
       "torch.Size([336, 66, 128])"
      ]
     },
     "execution_count": 6,
     "metadata": {},
     "output_type": "execute_result"
    }
   ],
   "source": [
    "ee.shape"
   ]
  },
  {
   "cell_type": "code",
   "execution_count": null,
   "metadata": {},
   "outputs": [],
   "source": []
  }
 ],
 "metadata": {
  "kernelspec": {
   "display_name": "dissertation",
   "language": "python",
   "name": "python3"
  },
  "language_info": {
   "codemirror_mode": {
    "name": "ipython",
    "version": 3
   },
   "file_extension": ".py",
   "mimetype": "text/x-python",
   "name": "python",
   "nbconvert_exporter": "python",
   "pygments_lexer": "ipython3",
   "version": "3.11.5"
  },
  "orig_nbformat": 4
 },
 "nbformat": 4,
 "nbformat_minor": 2
}
