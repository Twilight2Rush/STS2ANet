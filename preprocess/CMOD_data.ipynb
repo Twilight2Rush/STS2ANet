{
 "cells": [
  {
   "cell_type": "code",
   "execution_count": 1,
   "metadata": {},
   "outputs": [],
   "source": [
    "import numpy as np\n",
    "import pandas as pd"
   ]
  },
  {
   "cell_type": "code",
   "execution_count": 19,
   "metadata": {},
   "outputs": [
    {
     "data": {
      "text/plain": [
       "array([1., 0., 1., 0., 0., 0., 0., 0., 0., 0., 0., 0., 0., 0., 1., 0., 1.,\n",
       "       0., 2., 0., 1., 0., 0., 0., 0., 0., 0., 1., 0., 0., 0., 0., 0., 0.,\n",
       "       0., 0., 0., 0., 0., 0., 0., 0., 0., 0., 0., 1., 1., 0., 0., 0., 1.,\n",
       "       0., 0., 0., 0., 0., 0., 0., 1., 0., 0., 0., 1.])"
      ]
     },
     "execution_count": 19,
     "metadata": {},
     "output_type": "execute_result"
    }
   ],
   "source": [
    "od_data = np.load('./data/NYTaxi/od_matrix.npy')\n",
    "od_data[0][0]"
   ]
  },
  {
   "cell_type": "code",
   "execution_count": 32,
   "metadata": {},
   "outputs": [
    {
     "data": {
      "text/plain": [
       "array([0., 0., 0., 0., 0., 0., 0., 0., 0., 0., 1., 0., 0., 0., 1., 0., 0.,\n",
       "       0., 0., 0., 0., 0., 0., 0., 0., 0., 0., 0., 0., 0., 0., 0., 0., 0.,\n",
       "       0., 0., 0., 0., 0., 0., 0., 0., 0., 0., 0., 0., 0., 0., 0., 0., 0.,\n",
       "       1., 0., 0., 0., 0., 0., 0., 0., 0., 0., 0., 0.])"
      ]
     },
     "execution_count": 32,
     "metadata": {},
     "output_type": "execute_result"
    }
   ],
   "source": [
    "od_data[0][1]"
   ]
  },
  {
   "cell_type": "code",
   "execution_count": 35,
   "metadata": {},
   "outputs": [
    {
     "data": {
      "text/html": [
       "<div>\n",
       "<style scoped>\n",
       "    .dataframe tbody tr th:only-of-type {\n",
       "        vertical-align: middle;\n",
       "    }\n",
       "\n",
       "    .dataframe tbody tr th {\n",
       "        vertical-align: top;\n",
       "    }\n",
       "\n",
       "    .dataframe thead th {\n",
       "        text-align: right;\n",
       "    }\n",
       "</style>\n",
       "<table border=\"1\" class=\"dataframe\">\n",
       "  <thead>\n",
       "    <tr style=\"text-align: right;\">\n",
       "      <th></th>\n",
       "      <th>0</th>\n",
       "      <th>1</th>\n",
       "      <th>2</th>\n",
       "    </tr>\n",
       "  </thead>\n",
       "  <tbody>\n",
       "    <tr>\n",
       "      <th>0</th>\n",
       "      <td>62</td>\n",
       "      <td>11</td>\n",
       "      <td>1</td>\n",
       "    </tr>\n",
       "    <tr>\n",
       "      <th>1</th>\n",
       "      <td>48</td>\n",
       "      <td>32</td>\n",
       "      <td>5</td>\n",
       "    </tr>\n",
       "    <tr>\n",
       "      <th>2</th>\n",
       "      <td>20</td>\n",
       "      <td>13</td>\n",
       "      <td>6</td>\n",
       "    </tr>\n",
       "    <tr>\n",
       "      <th>3</th>\n",
       "      <td>36</td>\n",
       "      <td>43</td>\n",
       "      <td>9</td>\n",
       "    </tr>\n",
       "    <tr>\n",
       "      <th>4</th>\n",
       "      <td>53</td>\n",
       "      <td>62</td>\n",
       "      <td>11</td>\n",
       "    </tr>\n",
       "    <tr>\n",
       "      <th>...</th>\n",
       "      <td>...</td>\n",
       "      <td>...</td>\n",
       "      <td>...</td>\n",
       "    </tr>\n",
       "    <tr>\n",
       "      <th>38498582</th>\n",
       "      <td>61</td>\n",
       "      <td>27</td>\n",
       "      <td>603751269</td>\n",
       "    </tr>\n",
       "    <tr>\n",
       "      <th>38498583</th>\n",
       "      <td>59</td>\n",
       "      <td>20</td>\n",
       "      <td>603755189</td>\n",
       "    </tr>\n",
       "    <tr>\n",
       "      <th>38498584</th>\n",
       "      <td>19</td>\n",
       "      <td>55</td>\n",
       "      <td>603755754</td>\n",
       "    </tr>\n",
       "    <tr>\n",
       "      <th>38498585</th>\n",
       "      <td>4</td>\n",
       "      <td>40</td>\n",
       "      <td>2179440942</td>\n",
       "    </tr>\n",
       "    <tr>\n",
       "      <th>38498586</th>\n",
       "      <td>3</td>\n",
       "      <td>37</td>\n",
       "      <td>2179441539</td>\n",
       "    </tr>\n",
       "  </tbody>\n",
       "</table>\n",
       "<p>38498587 rows × 3 columns</p>\n",
       "</div>"
      ],
      "text/plain": [
       "           0   1           2\n",
       "0         62  11           1\n",
       "1         48  32           5\n",
       "2         20  13           6\n",
       "3         36  43           9\n",
       "4         53  62          11\n",
       "...       ..  ..         ...\n",
       "38498582  61  27   603751269\n",
       "38498583  59  20   603755189\n",
       "38498584  19  55   603755754\n",
       "38498585   4  40  2179440942\n",
       "38498586   3  37  2179441539\n",
       "\n",
       "[38498587 rows x 3 columns]"
      ]
     },
     "execution_count": 35,
     "metadata": {},
     "output_type": "execute_result"
    }
   ],
   "source": [
    "nytaxi_data = np.load('./data/NYTaxi/NYTaxi.npy').astype(\"int\").reshape([-1, 3])\n",
    "nytaxi_pd = pd.DataFrame(nytaxi_data)\n",
    "# o_requried = nytaxi_pd[0].map(lambda x : x==62)\n",
    "# d_required = nytaxi_pd[1].map(lambda x : x==48)\n",
    "# nytaxi_pd[o_requried & d_required]\n",
    "nytaxi_pd"
   ]
  },
  {
   "cell_type": "code",
   "execution_count": 31,
   "metadata": {},
   "outputs": [
    {
     "data": {
      "text/plain": [
       "Timestamp('2039-01-24 00:25:39')"
      ]
     },
     "execution_count": 31,
     "metadata": {},
     "output_type": "execute_result"
    }
   ],
   "source": [
    "\n",
    "z = pd.to_datetime(2179441539, unit='s')\n",
    "z"
   ]
  },
  {
   "cell_type": "code",
   "execution_count": 34,
   "metadata": {},
   "outputs": [
    {
     "data": {
      "text/plain": [
       "array([[    62,     11,      1],\n",
       "       [    48,     32,      5],\n",
       "       [    20,     13,      6],\n",
       "       ...,\n",
       "       [    59,     54, 604796],\n",
       "       [     8,     10, 604797],\n",
       "       [    18,     46, 604798]])"
      ]
     },
     "execution_count": 34,
     "metadata": {},
     "output_type": "execute_result"
    }
   ],
   "source": [
    "sample_data = np.load('./data/sampled.npy')\n",
    "sample_data"
   ]
  }
 ],
 "metadata": {
  "kernelspec": {
   "display_name": "Dissertation",
   "language": "python",
   "name": "python3"
  },
  "language_info": {
   "codemirror_mode": {
    "name": "ipython",
    "version": 3
   },
   "file_extension": ".py",
   "mimetype": "text/x-python",
   "name": "python",
   "nbconvert_exporter": "python",
   "pygments_lexer": "ipython3",
   "version": "3.9.15"
  },
  "orig_nbformat": 4
 },
 "nbformat": 4,
 "nbformat_minor": 2
}
